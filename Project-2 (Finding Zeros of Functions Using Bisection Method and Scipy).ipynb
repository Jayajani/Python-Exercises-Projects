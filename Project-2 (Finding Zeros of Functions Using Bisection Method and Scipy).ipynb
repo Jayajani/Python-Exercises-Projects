{
 "cells": [
  {
   "cell_type": "code",
   "execution_count": 2,
   "metadata": {},
   "outputs": [],
   "source": [
    "%matplotlib inline\n",
    "import numpy as np\n",
    "import matplotlib.pyplot as plt\n",
    "from scipy.optimize import fsolve"
   ]
  },
  {
   "cell_type": "code",
   "execution_count": null,
   "metadata": {},
   "outputs": [],
   "source": []
  },
  {
   "cell_type": "code",
   "execution_count": 6,
   "metadata": {},
   "outputs": [
    {
     "name": "stdout",
     "output_type": "stream",
     "text": [
      " Bisection Method Gives Root At x =  1.9999923706636764\n"
     ]
    },
    {
     "data": {
      "image/png": "[encoded data removed]",
      "text/plain": [
       "<Figure size 432x288 with 1 Axes>"
      ]
     },
     "metadata": {
      "needs_background": "light"
     },
     "output_type": "display_data"
    }
   ],
   "source": [
    "def f(x):\n",
    "    return x-2\n",
    "\n",
    "def bisection(a,b,tol):\n",
    "    xl = a\n",
    "    xr = b\n",
    "    while (np.abs(xl-xr)>=tol):\n",
    "        c = (xl + xr)/2.0\n",
    "        prod = f(xl)*f(c)\n",
    "        if prod>tol:\n",
    "            xl = c\n",
    "        else:\n",
    "            if prod<tol:\n",
    "                xr=c\n",
    "    return c\n",
    "\n",
    "answer = bisection(0,4,1e-10)\n",
    "print(\" Bisection Method Gives Root At x = \", answer)\n",
    "\n",
    "x = np.linspace(0,3,100)\n",
    "plt.plot(x,f(x))\n",
    "plt.grid()\n",
    "plt.show()"
   ]
  },
  {
   "cell_type": "code",
   "execution_count": null,
   "metadata": {},
   "outputs": [],
   "source": []
  },
  {
   "cell_type": "markdown",
   "metadata": {},
   "source": [
    "# Shortcut Method using fsolve function"
   ]
  },
  {
   "cell_type": "code",
   "execution_count": 8,
   "metadata": {},
   "outputs": [],
   "source": [
    "import inspect"
   ]
  },
  {
   "cell_type": "code",
   "execution_count": 10,
   "metadata": {},
   "outputs": [
    {
     "name": "stdout",
     "output_type": "stream",
     "text": [
      "Fsolve gives first root at x =  [-1.41421356  1.41421356]\n"
     ]
    }
   ],
   "source": [
    "shortcut = fsolve(f,[-1.5,1.5])\n",
    "print(\"Fsolve gives first root at x = \", shortcut)"
   ]
  }
 ],
 "metadata": {
  "kernelspec": {
   "display_name": "Python 3",
   "language": "python",
   "name": "python3"
  },
  "language_info": {
   "codemirror_mode": {
    "name": "ipython",
    "version": 3
   },
   "file_extension": ".py",
   "mimetype": "text/x-python",
   "name": "python",
   "nbconvert_exporter": "python",
   "pygments_lexer": "ipython3",
   "version": "3.7.4"
  }
 },
 "nbformat": 4,
 "nbformat_minor": 2
}
