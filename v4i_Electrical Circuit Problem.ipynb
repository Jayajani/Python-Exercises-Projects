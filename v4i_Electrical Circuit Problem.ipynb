{
 "cells": [
  {
   "cell_type": "markdown",
   "metadata": {},
   "source": [
    "# <span style=\"color:Green\"><div align=\"center\">Electrical circuits</div></span>\n",
    "\n",
    "\n",
    "### <span style=\"color:orange\">What is electrical circuit ?\n",
    "\n",
    "An **electrical circuit** is a path in which electrons from a voltage or current source flow.\n",
    "\n",
    "The point where those electrons enter an electrical circuit is called the \"source\" of electrons. The point where the electrons leave an electrical circuit is called the \"return\" or \"earth ground\". The exit point is called the \"return\" because electrons always end up at the source when they complete the path of an electrical circuit.\n",
    "\n",
    "Electronic circuits usually use direct current sources. The load of an electronic circuit may be as simple as a few resistors, capacitors, and a lamp, all connected together to create the flash in a camera. Or an electronic circuit can be complicated, connecting thousands of resistors, capacitors, and transistors. It may be an integrated circuit such as the microprocessor in a computer.\n",
    "\n",
    "Resistors and other circuit elements can be connected in series or in parallel."
   ]
  },
  {
   "cell_type": "markdown",
   "metadata": {},
   "source": [
    "# This photo shows some components of Circuits. "
   ]
  },
  {
   "cell_type": "markdown",
   "metadata": {},
   "source": [
    "![Electrical-circuits](http://www.funscience.in/images/StudyZone/Physics/ChemicalEffectsOfCurrent/ElectricalSymbols.png)"
   ]
  },
  {
   "cell_type": "markdown",
   "metadata": {},
   "source": [
    "# Electrical Circuit Problem"
   ]
  },
  {
   "cell_type": "markdown",
   "metadata": {},
   "source": [
    "The following scheme demonstrates a given electrical circuit. The provided task was to determine an electric current matrix X, which makes the next system of linear equations true.\n",
    "\n",
    "In this particular task, we will assume that the current flows *clockwise*. Hence, the presented circuit can be represented as series of linear equations in a following way:\n",
    "\n",
    "\n",
    "\n",
    "\\begin{bmatrix} \n",
    "   -V_1 & {}+{} &  R_1i_1 & {}+{} & R_2(i_1 - i_2) & {}={} & 0 \\\\\n",
    "    R_2(i_2-i_1) & {}+{} &  R_3i_2 & {}+{} &  R_4(i_2-i_3) & {}={} &  0 \\\\\n",
    "    R_4(i_3-i_2) & {}+{} & R_5i_3 & {}+{} & V_2 & {}={} & 0\n",
    "\\end{bmatrix}"
   ]
  },
  {
   "cell_type": "markdown",
   "metadata": {},
   "source": [
    "However, before working with these equations we have to rearrange and simplify them.\n",
    "\n",
    "\n",
    "\\begin{bmatrix} \n",
    "    R_1i_1  +  R_2i_1  -  R_2i_2  =  V_1 \\\\\n",
    "    R_2i_2  -  R_2i_1  + R_3i_2  +  R_4i_2  - R_4i_3  =  0 \\\\\n",
    "    R_4i_3  -  R_4i_2  + R_5i_3  =  -V_2\n",
    "\\end{bmatrix}"
   ]
  },
  {
   "cell_type": "markdown",
   "metadata": {},
   "source": [
    "Finally, after some more transformations we obtain:\n",
    "\n",
    "\n",
    "\\begin{bmatrix} \n",
    "    i_1(R_1 + R_2) & - & i_2R_2 & + & 0i_3 & = & V_1 \\\\\n",
    "    -i_1R_2 & + & i_2(R_2 + R_3+ R_4) & - & i_3R_4 & = & 0 \\\\\n",
    "    0i_1 & - & i_2R_4 & + & i3(R_4 + R_5) & = & -V_2\n",
    "\\end{bmatrix}\n"
   ]
  },
  {
   "cell_type": "markdown",
   "metadata": {},
   "source": [
    "Thus, for our calculation purposes we obtain:\n",
    "\n",
    "\n",
    "\\begin{align}\n",
    "A &= \\begin{bmatrix}\n",
    "R_1 + R_2 & -R_2 & 0 \\\\\n",
    "-R_2 & R_2+R_3+R_4 & -R_4 \\\\\n",
    "0 & -R_4 & R_4+R_5\n",
    "\\end{bmatrix}\n",
    "&\n",
    "B &= \\begin{bmatrix}\n",
    "V_1 \\\\\n",
    "0 \\\\\n",
    "-V_2\n",
    "\\end{bmatrix}\n",
    "&\n",
    "X &= \\begin{bmatrix}\n",
    "i_1 \\\\\n",
    "i_2 \\\\\n",
    "i_3\n",
    "\\end{bmatrix}\n",
    "\\end{align}"
   ]
  },
  {
   "cell_type": "markdown",
   "metadata": {},
   "source": [
    "In order to solve this problem, we will further represent this system of linear equations as the matrix multiplication equation:\n",
    "\n",
    "$$ AX = B $$\n",
    "\n",
    "where\n",
    "A = matrix of resistors,\n",
    "B = matrix of voltage.\n",
    "\n",
    "In order to find the unknown matrix X, we will make an inverted matrix multiplication:\n",
    "\n",
    "$$ X = A^{-1}B $$"
   ]
  },
  {
   "cell_type": "code",
   "execution_count": 1,
   "metadata": {},
   "outputs": [],
   "source": [
    "import sympy as sp\n",
    "import numpy as np"
   ]
  },
  {
   "cell_type": "code",
   "execution_count": 2,
   "metadata": {},
   "outputs": [],
   "source": [
    "#Since there are no provided values in the task at hand, we will get them from user\n",
    "\n",
    "def get_resistors_matrix(): #define a function for creating a matrix of resistors\n",
    "    resistors = []\n",
    "    for i in range(6):\n",
    "        resistors.append(input('Enter a value for R{0} '.format(i+1)).strip())\n",
    "    resistors = [float(i) for i in resistors]\n",
    "    \n",
    "    #Put resistance values according from our equations\n",
    "    matrix = sp.Matrix([[resistors[0]+resistors[1], resistors[1]*(-1), 0],\n",
    "                        [resistors[1]*(-1), resistors[1]+resistors[2]+resistors[3], resistors[3]*(-1)],\n",
    "                        [0, resistors[3]*(-1), resistors[3]+resistors[4]]])        \n",
    "    return matrix\n",
    "\n",
    "def get_voltage_matrix(): #define a function for creating a matrix of voltage\n",
    "    voltage = []\n",
    "    for i in range(2):\n",
    "        voltage.append(input('Enter a value for V{0} '.format(i+1)).strip())\n",
    "    voltage = [float(i) for i in voltage]\n",
    "    matrix = sp.Matrix([voltage[0], 0, voltage[1]*(-1)])   #voltage values from our equations \n",
    "    return matrix"
   ]
  },
  {
   "cell_type": "code",
   "execution_count": 4,
   "metadata": {},
   "outputs": [
    {
     "name": "stdout",
     "output_type": "stream",
     "text": [
      "Enter a value for R1 12\n",
      "Enter a value for R2 53\n",
      "Enter a value for R3 23\n",
      "Enter a value for R4 15\n",
      "Enter a value for R5 53\n",
      "Enter a value for R6 23\n"
     ]
    },
    {
     "data": {
      "text/latex": [
       "$\\displaystyle \\left[\\begin{matrix}65.0 & -53.0 & 0\\\\-53.0 & 91.0 & -15.0\\\\0 & -15.0 & 68.0\\end{matrix}\\right]$"
      ],
      "text/plain": [
       "Matrix([\n",
       "[ 65.0, -53.0,     0],\n",
       "[-53.0,  91.0, -15.0],\n",
       "[    0, -15.0,  68.0]])"
      ]
     },
     "execution_count": 4,
     "metadata": {},
     "output_type": "execute_result"
    }
   ],
   "source": [
    "#Receive values for resistors from user\n",
    "A = get_resistors_matrix()\n",
    "A"
   ]
  },
  {
   "cell_type": "code",
   "execution_count": 5,
   "metadata": {},
   "outputs": [
    {
     "name": "stdout",
     "output_type": "stream",
     "text": [
      "Enter a value for V1 12\n",
      "Enter a value for V2 13\n"
     ]
    },
    {
     "data": {
      "text/latex": [
       "$\\displaystyle \\left[\\begin{matrix}12.0\\\\0\\\\-13.0\\end{matrix}\\right]$"
      ],
      "text/plain": [
       "Matrix([\n",
       "[ 12.0],\n",
       "[    0],\n",
       "[-13.0]])"
      ]
     },
     "execution_count": 5,
     "metadata": {},
     "output_type": "execute_result"
    }
   ],
   "source": [
    "#Receive values for voltage from user\n",
    "B = get_voltage_matrix()\n",
    "B"
   ]
  },
  {
   "cell_type": "code",
   "execution_count": 11,
   "metadata": {},
   "outputs": [
    {
     "data": {
      "text/latex": [
       "$\\displaystyle \\left[\\begin{matrix}0.311425708225025\\\\0.155522094992955\\\\-0.156870126104495\\end{matrix}\\right]$"
      ],
      "text/plain": [
       "Matrix([\n",
       "[ 0.311425708225025],\n",
       "[ 0.155522094992955],\n",
       "[-0.156870126104495]])"
      ]
     },
     "execution_count": 11,
     "metadata": {},
     "output_type": "execute_result"
    }
   ],
   "source": [
    "#Solution matrix \n",
    "X = A.inv() * B\n",
    "X"
   ]
  },
  {
   "cell_type": "code",
   "execution_count": 13,
   "metadata": {},
   "outputs": [
    {
     "data": {
      "text/latex": [
       "$\\displaystyle \\left[\\begin{matrix}0.0303332434645926 & 0.0183332231169531 & 0.00404409333462202\\\\0.0183332231169531 & 0.0224841415585274 & 0.0049597371084987\\\\0.00404409333462202 & 0.0049597371084987 & 0.0157999420092277\\end{matrix}\\right]$"
      ],
      "text/plain": [
       "Matrix([\n",
       "[ 0.0303332434645926, 0.0183332231169531, 0.00404409333462202],\n",
       "[ 0.0183332231169531, 0.0224841415585274,  0.0049597371084987],\n",
       "[0.00404409333462202, 0.0049597371084987,  0.0157999420092277]])"
      ]
     },
     "execution_count": 13,
     "metadata": {},
     "output_type": "execute_result"
    }
   ],
   "source": [
    "A.inv()"
   ]
  },
  {
   "cell_type": "code",
   "execution_count": null,
   "metadata": {},
   "outputs": [],
   "source": []
  },
  {
   "cell_type": "code",
   "execution_count": null,
   "metadata": {},
   "outputs": [],
   "source": []
  },
  {
   "cell_type": "markdown",
   "metadata": {},
   "source": [
    "In order to verify that our solution is correct, we will perform following multiplication again:\n",
    "\n",
    "$$ AX = B $$\n",
    "\n",
    "If our calculations are indeed correct, we should recieve a matrix equal to the one provided in the given system of equations. "
   ]
  },
  {
   "cell_type": "code",
   "execution_count": 9,
   "metadata": {},
   "outputs": [
    {
     "data": {
      "text/latex": [
       "$\\displaystyle \\left[\\begin{matrix}12.0\\\\2.66453525910038 \\cdot 10^{-15}\\\\-13.0\\end{matrix}\\right]$"
      ],
      "text/plain": [
       "Matrix([\n",
       "[                12.0],\n",
       "[2.66453525910038e-15],\n",
       "[               -13.0]])"
      ]
     },
     "execution_count": 9,
     "metadata": {},
     "output_type": "execute_result"
    }
   ],
   "source": [
    "A*X"
   ]
  },
  {
   "cell_type": "code",
   "execution_count": 7,
   "metadata": {},
   "outputs": [
    {
     "ename": "TypeError",
     "evalue": "No loop matching the specified signature and casting\nwas found for ufunc solve",
     "output_type": "error",
     "traceback": [
      "\u001b[1;31m---------------------------------------------------------------------------\u001b[0m",
      "\u001b[1;31mTypeError\u001b[0m                                 Traceback (most recent call last)",
      "\u001b[1;32m<ipython-input-7-fb7d9e4bc890>\u001b[0m in \u001b[0;36m<module>\u001b[1;34m\u001b[0m\n\u001b[1;32m----> 1\u001b[1;33m \u001b[0mCurrent\u001b[0m \u001b[1;33m=\u001b[0m \u001b[0mnp\u001b[0m\u001b[1;33m.\u001b[0m\u001b[0mlinalg\u001b[0m\u001b[1;33m.\u001b[0m\u001b[0msolve\u001b[0m\u001b[1;33m(\u001b[0m\u001b[0mA\u001b[0m\u001b[1;33m,\u001b[0m\u001b[0mB\u001b[0m\u001b[1;33m)\u001b[0m\u001b[1;33m\u001b[0m\u001b[1;33m\u001b[0m\u001b[0m\n\u001b[0m\u001b[0;32m      2\u001b[0m \u001b[0mprint\u001b[0m\u001b[1;33m(\u001b[0m\u001b[1;34m\"Current:\\n\"\u001b[0m\u001b[1;33m,\u001b[0m \u001b[0mCurrent\u001b[0m\u001b[1;33m)\u001b[0m\u001b[1;33m\u001b[0m\u001b[1;33m\u001b[0m\u001b[0m\n",
      "\u001b[1;32m~\\Anaconda3\\lib\\site-packages\\numpy\\linalg\\linalg.py\u001b[0m in \u001b[0;36msolve\u001b[1;34m(a, b)\u001b[0m\n\u001b[0;32m    401\u001b[0m     \u001b[0msignature\u001b[0m \u001b[1;33m=\u001b[0m \u001b[1;34m'DD->D'\u001b[0m \u001b[1;32mif\u001b[0m \u001b[0misComplexType\u001b[0m\u001b[1;33m(\u001b[0m\u001b[0mt\u001b[0m\u001b[1;33m)\u001b[0m \u001b[1;32melse\u001b[0m \u001b[1;34m'dd->d'\u001b[0m\u001b[1;33m\u001b[0m\u001b[1;33m\u001b[0m\u001b[0m\n\u001b[0;32m    402\u001b[0m     \u001b[0mextobj\u001b[0m \u001b[1;33m=\u001b[0m \u001b[0mget_linalg_error_extobj\u001b[0m\u001b[1;33m(\u001b[0m\u001b[0m_raise_linalgerror_singular\u001b[0m\u001b[1;33m)\u001b[0m\u001b[1;33m\u001b[0m\u001b[1;33m\u001b[0m\u001b[0m\n\u001b[1;32m--> 403\u001b[1;33m     \u001b[0mr\u001b[0m \u001b[1;33m=\u001b[0m \u001b[0mgufunc\u001b[0m\u001b[1;33m(\u001b[0m\u001b[0ma\u001b[0m\u001b[1;33m,\u001b[0m \u001b[0mb\u001b[0m\u001b[1;33m,\u001b[0m \u001b[0msignature\u001b[0m\u001b[1;33m=\u001b[0m\u001b[0msignature\u001b[0m\u001b[1;33m,\u001b[0m \u001b[0mextobj\u001b[0m\u001b[1;33m=\u001b[0m\u001b[0mextobj\u001b[0m\u001b[1;33m)\u001b[0m\u001b[1;33m\u001b[0m\u001b[1;33m\u001b[0m\u001b[0m\n\u001b[0m\u001b[0;32m    404\u001b[0m \u001b[1;33m\u001b[0m\u001b[0m\n\u001b[0;32m    405\u001b[0m     \u001b[1;32mreturn\u001b[0m \u001b[0mwrap\u001b[0m\u001b[1;33m(\u001b[0m\u001b[0mr\u001b[0m\u001b[1;33m.\u001b[0m\u001b[0mastype\u001b[0m\u001b[1;33m(\u001b[0m\u001b[0mresult_t\u001b[0m\u001b[1;33m,\u001b[0m \u001b[0mcopy\u001b[0m\u001b[1;33m=\u001b[0m\u001b[1;32mFalse\u001b[0m\u001b[1;33m)\u001b[0m\u001b[1;33m)\u001b[0m\u001b[1;33m\u001b[0m\u001b[1;33m\u001b[0m\u001b[0m\n",
      "\u001b[1;31mTypeError\u001b[0m: No loop matching the specified signature and casting\nwas found for ufunc solve"
     ]
    }
   ],
   "source": [
    "Current = np.linalg.solve(A,B)\n",
    "print(\"Current:\\n\", Current)"
   ]
  },
  {
   "cell_type": "code",
   "execution_count": null,
   "metadata": {},
   "outputs": [],
   "source": []
  },
  {
   "cell_type": "markdown",
   "metadata": {},
   "source": [
    "As can be seen in recieved answer, our calculations are correct."
   ]
  },
  {
   "cell_type": "markdown",
   "metadata": {},
   "source": [
    "# Finding the current flows through the resistors"
   ]
  },
  {
   "cell_type": "markdown",
   "metadata": {},
   "source": [
    "In order to find the current flows through each resistor, we will assume the following current flows:\n",
    "\n",
    "![currents-cycles](../e-circuit-cut-currents-cycles.png)\n",
    "\n",
    "From our previous calculations we can tell that $I_a = 0.75 A$, $I_b = 0 A$, $I_c = -0.75 A$.\n",
    "\n",
    "According to the Kirchhoff's current law, the current flowing into a node (or a junction) must be equal to current flowing out of it. Thus, we can substitute our currents and find the rest."
   ]
  },
  {
   "cell_type": "markdown",
   "metadata": {},
   "source": [
    "We can express the currents such as: $I_a = i_1$, $I_b = i_2$, $I_c = i_4$.\n",
    "\n",
    "$$i_1 = i_2 + i_3$$\n",
    "$$i_2 = i_1 - i_3$$\n",
    "$$i_3 = -i_1 - i_2$$\n",
    "$$i_4 = i_2 - i_5$$\n",
    "$$i_5 = i_4 + i_2$$\n",
    "\n",
    "\n",
    "After substitution and calculation, we get\n",
    "\n",
    "\\begin{matrix}\n",
    "i_1 &=& 0.75 \\\\\n",
    "i_2 &=& 0 \\\\\n",
    "i_3 &=& -0.75 \\\\\n",
    "i_4 &=& -0.75 \\\\\n",
    "i_5 &=& 0.75\n",
    "\\end{matrix}"
   ]
  },
  {
   "cell_type": "markdown",
   "metadata": {},
   "source": [
    "# Graph representation of electrical circuit"
   ]
  },
  {
   "cell_type": "markdown",
   "metadata": {},
   "source": [
    "The given electronic circuit can be represented as a following graph:"
   ]
  },
  {
   "cell_type": "code",
   "execution_count": 15,
   "metadata": {},
   "outputs": [],
   "source": [
    "%matplotlib inline\n",
    "#import matplotlib.pyplot as plt\n",
    "import networkx as nx"
   ]
  },
  {
   "cell_type": "code",
   "execution_count": null,
   "metadata": {},
   "outputs": [],
   "source": []
  },
  {
   "cell_type": "code",
   "execution_count": 16,
   "metadata": {},
   "outputs": [
    {
     "name": "stderr",
     "output_type": "stream",
     "text": [
      "C:\\Users\\jayaj\\Anaconda3\\lib\\site-packages\\networkx\\drawing\\nx_pylab.py:579: MatplotlibDeprecationWarning: \n",
      "The iterable function was deprecated in Matplotlib 3.1 and will be removed in 3.3. Use np.iterable instead.\n",
      "  if not cb.iterable(width):\n",
      "C:\\Users\\jayaj\\Anaconda3\\lib\\site-packages\\networkx\\drawing\\nx_pylab.py:676: MatplotlibDeprecationWarning: \n",
      "The iterable function was deprecated in Matplotlib 3.1 and will be removed in 3.3. Use np.iterable instead.\n",
      "  if cb.iterable(node_size):  # many node sizes\n"
     ]
    },
    {
     "data": {
      "image/png": "[encoded data removed]",
      "text/plain": [
       "<Figure size 432x288 with 1 Axes>"
      ]
     },
     "metadata": {},
     "output_type": "display_data"
    }
   ],
   "source": [
    "G2 = nx.DiGraph()\n",
    "nodes = ['A','B','C','D','E','F']\n",
    "\n",
    "G2.add_nodes_from(nodes)\n",
    "G2.add_edges_from([('B','A'), ('A','C'),('C','B'),('D','E'),('D','B'),('C','E'),('E','F'),('F','D')])\n",
    "nx.draw_spectral(G2, node_color='C1', node_size=500, with_labels=True);"
   ]
  },
  {
   "cell_type": "code",
   "execution_count": null,
   "metadata": {},
   "outputs": [],
   "source": []
  },
  {
   "cell_type": "code",
   "execution_count": null,
   "metadata": {},
   "outputs": [],
   "source": []
  },
  {
   "cell_type": "markdown",
   "metadata": {},
   "source": [
    "# Sources\n",
    "\n",
    "Diytechpro.com. (2017). Electric Circuit Simple Concept – DIY Tech Pro. [online] DIY Tech Pro. Available at: https://diytechpro.com/electric-circuit-simple-concept/ [Accessed 1 Jan. 2020].\n",
    "\n",
    "Allaboutcircuits.com. (2015). What Are Electric Circuits? | Basic Concepts Of Electricity | Electronics Textbook. [online] Available at: https://www.allaboutcircuits.com/textbook/direct-current/chpt-1/electric-circuits/ [Accessed 3 Jan. 2020].\n"
   ]
  },
  {
   "cell_type": "markdown",
   "metadata": {},
   "source": [
    "Prepared by: Alexandr Shevchenko"
   ]
  }
 ],
 "metadata": {
  "kernelspec": {
   "display_name": "Python 3",
   "language": "python",
   "name": "python3"
  },
  "language_info": {
   "codemirror_mode": {
    "name": "ipython",
    "version": 3
   },
   "file_extension": ".py",
   "mimetype": "text/x-python",
   "name": "python",
   "nbconvert_exporter": "python",
   "pygments_lexer": "ipython3",
   "version": "3.7.4"
  }
 },
 "nbformat": 4,
 "nbformat_minor": 4
}
