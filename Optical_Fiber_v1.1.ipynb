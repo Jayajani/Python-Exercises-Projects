{
 "cells": [
  {
   "cell_type": "markdown",
   "metadata": {},
   "source": [
    "#  <span style=\"color:Blue\"> ***Optical Fiber*** </u></span> "
   ]
  },
  {
   "cell_type": "markdown",
   "metadata": {},
   "source": [
    "   \n",
    "An optical fiber is a flexible, transparent fiber made by drawing glass (silica) or plastic to a diameter slightly thicker than that of a human hair. Optical fibers are used most often as a means to transmit light between the two ends of the fiber and find wide usage in fiber-optic communications, where they permit transmission over longer distances and at higher bandwidths (data rates) than electrical cables. Fibers are used instead of metal wires because signals travel along them with less loss; in addition, fibers are immune to electromagnetic interference, a problem from which metal wires suffer.\n",
    "\n",
    " \n",
    "Fibers are also used for illumination and imaging, and are often wrapped in bundles so they may be used to carry light into, or images out of confined spaces, as in the case of a fiberscope. Specially designed fibers are also used for a variety of other applications, some of them being fiber optic sensors and fiber lasers.\n",
    "        \n",
    "        "
   ]
  },
  {
   "cell_type": "markdown",
   "metadata": {},
   "source": [
    "![](https://quantumoptics.at/images/news/licht-materie_1800x1080.jpg)\n",
    "### Entanglement sent over 50 km of optical fiber"
   ]
  },
  {
   "cell_type": "markdown",
   "metadata": {},
   "source": [
    "![](https://pronto-core-cdn.prontomarketing.com/2/wp-content/uploads/sites/2713/2018/07/Sideimg-Fiber-Optic-Installation.jpg)"
   ]
  },
  {
   "cell_type": "markdown",
   "metadata": {},
   "source": [
    "### <span style=\"color:Red\"> Usages of fiber optics</span>"
   ]
  },
  {
   "cell_type": "markdown",
   "metadata": {},
   "source": [
    "#### <span style=\"color:Green\"> Communication</span>\n",
    "\n",
    "\n",
    "###### Optical fiber is used as a medium for telecommunication and computer networking because it is flexible and can be bundled as cables. It is especially advantageous for long-distance communications, because infrared light propagates through the fiber with much lower attenuation compared to electrical cables. This allows long distances to be spanned with few repeaters.\n",
    "\n",
    "The per-channel light signals propagating in the fiber have been modulated at rates as high as 111 gigabits per second (Gbit/s) by NTT, although 10 or 40 Gbit/s is typical in deployed systems. In June 2013, researchers demonstrated transmission of 400 Gbit/s over a single channel using 4-mode orbital angular momentum multiplexing. Each fiber can carry many independent channels, each using a different wavelength of light (wavelength-division multiplexing (WDM)). The net data rate (data rate without overhead bytes) per fiber is the per-channel data rate reduced by the FEC overhead, multiplied by the number of channels (usually up to 80 in commercial dense WDM systems as of 2008). As of 2011 the record for bandwidth on a single core was 101 Tbit/s (370 channels at 273 Gbit/s each). The record for a multi-core fiber as of January 2013 was 1.05 Pbit/s. In 2009, Bell Labs broke the 100 (Pbit/s)·km barrier (15.5 Tbit/s over a single 7000 km fiber).For short-distance applications, such as a network in an office building (see fiber to the office), fiber-optic cabling can save space in cable ducts. This is because a single fiber can carry much more data than electrical cables such as standard category 5 Ethernet cabling, which typically runs at 100 Mbit/s or 1 Gbit/s speeds."
   ]
  },
  {
   "cell_type": "markdown",
   "metadata": {},
   "source": [
    "#### <span style=\"color:Green\"> Sensors </span>\n",
    "\n",
    "\n",
    "##### Fibers have many uses in remote sensing. In some applications, the sensor is itself an optical fiber. In other cases, fiber is used to connect a non-fiberoptic sensor to a measurement system. Depending on the application, fiber may be used because of its small size, or the fact that no electrical power is needed at the remote location, or because many sensors can be multiplexed along the length of a fiber by using different wavelengths of light for each sensor, or by sensing the time delay as light passes along the fiber through each sensor. Time delay can be determined using a device such as an optical time-domain reflectometer.\n",
    "\n",
    "Optical fibers can be used as sensors to measure strain, temperature, pressure, and other quantities by modifying a fiber so that the property to measure modulates the intensity, phase, polarization, wavelength, or transit time of light in the fiber. Sensors that vary the intensity of light are the simplest since only a simple source and detector are required. A particularly useful feature of such fiber optic sensors is that they can, if required, provide distributed sensing over distances of up to one meter. In contrast, highly localized measurements can be provided by integrating miniaturized sensing elements with the tip of the fiber. These can be implemented by various micro- and nanofabrication technologies, such that they do not exceed the microscopic boundary of the fiber tip, allowing such applications as insertion into blood vessels via hypodermic needle."
   ]
  },
  {
   "cell_type": "markdown",
   "metadata": {},
   "source": [
    "### <span style=\"color:Red\"> Index of refraction</span>"
   ]
  },
  {
   "cell_type": "markdown",
   "metadata": {},
   "source": [
    "The index of refraction (or refractive index) is a way of measuring the speed of light in a material. Light travels fastest in a vacuum, such as in outer space. The speed of light in a vacuum is about 300,000 kilometers (186,000 miles) per second. The refractive index of a medium is calculated by dividing the speed of light in a vacuum by the speed of light in that medium. The refractive index of a vacuum is therefore 1, by definition. A typical single-mode fiber used for telecommunications has a cladding made of pure silica, with an index of 1.444 at 1500 nm, and a core of doped silica with an index around 1.4475. The larger the index of refraction, the slower light travels in that medium. From this information, a simple rule of thumb is that a signal using optical fiber for communication will travel at around 200,000 kilometers per second. To put it another way, the signal will take 5 milliseconds to travel 1,000 kilometers in fiber. Thus a phone call carried by fiber between Sydney and New York, a 16,000-kilometer distance, means that there is a minimum delay of 80 milliseconds (<b>about ${\\displaystyle {\\tfrac {1}{12}}}$ of a second</b>) between when one caller speaks and the other hears. (The fiber, in this case, will probably travel a longer route, and there will be additional delays due to communication equipment switching and the process of encoding and decoding the voice onto the fiber).\n",
    "\n",
    "Most modern optical fiber is weakly guiding, meaning that the difference in refractive index between the core and the cladding is very small (typically less than 1%)."
   ]
  },
  {
   "cell_type": "markdown",
   "metadata": {},
   "source": [
    "###  <span style=\"color:green\"> Total internal reflection</span>"
   ]
  },
  {
   "cell_type": "markdown",
   "metadata": {},
   "source": [
    "When light traveling in an optically dense medium hits a boundary at a steep angle (larger than the critical angle for the boundary), the light is completely reflected. This is called total internal reflection. This effect is used in optical fibers to confine light in the core. Light travels through the fiber core, bouncing back and forth off the boundary between the core and cladding. Because the light must strike the boundary with an angle greater than the critical angle, only light that enters the fiber within a certain range of angles can travel down the fiber without leaking out. This range of angles is called the acceptance cone of the fiber. The size of this acceptance cone is a function of the refractive index difference between the fiber's core and cladding.\n",
    "\n",
    "In simpler terms, there is a maximum angle from the fiber axis at which light may enter the fiber so that it will propagate, or travel, in the core of the fiber. The sine of this maximum angle is the numerical aperture (NA) of the fiber. Fiber with a larger NA requires less precision to splice and work with than fiber with a smaller NA. Single-mode fiber has a small NA."
   ]
  },
  {
   "cell_type": "code",
   "execution_count": 1,
   "metadata": {},
   "outputs": [],
   "source": [
    "import pandas as pd\n",
    "\n",
    "# Make data-frame of table from excel file.\n",
    "df = pd.read_excel (r'C:\\Users\\jayaj\\Desktop\\Optical_Fiber_Data.xlsx')\n"
   ]
  },
  {
   "cell_type": "code",
   "execution_count": 2,
   "metadata": {},
   "outputs": [
    {
     "name": "stdout",
     "output_type": "stream",
     "text": [
      "         Material  Index of refraction\n",
      "0         Hydrogen              1.0001\n",
      "1              Air              1.0003\n",
      "2   Carbon dioxide              1.0005\n",
      "3            Water               1.333\n",
      "4    Ethyl Alcohol               1.362\n",
      "5        Glycerine               1.473\n",
      "6              Ice                1.31\n",
      "7      Polystyrene                1.59\n",
      "8      Crown glass         1.50 - 1.62\n",
      "9      Flint glass         1.57 - 1.75\n",
      "10         Diamond               2.417\n",
      "11         Acrylic                1.49\n"
     ]
    }
   ],
   "source": [
    "del df['Unnamed: 1']\n",
    "del df['Unnamed: 2']\n",
    "print(df)"
   ]
  },
  {
   "cell_type": "markdown",
   "metadata": {},
   "source": [
    " #    <center> <span style=\"color:blue\">  $ \\Theta = \\sin^-1(\\frac{n2}{n1})$ </span> </center>  \n",
    " "
   ]
  },
  {
   "cell_type": "code",
   "execution_count": 3,
   "metadata": {},
   "outputs": [
    {
     "name": "stdout",
     "output_type": "stream",
     "text": [
      "Select n1 & n2 values from this table.\n",
      "         Material  Index of refraction\n",
      "0         Hydrogen              1.0001\n",
      "1              Air              1.0003\n",
      "2   Carbon dioxide              1.0005\n",
      "3            Water               1.333\n",
      "4    Ethyl Alcohol               1.362\n",
      "5        Glycerine               1.473\n",
      "6              Ice                1.31\n",
      "7      Polystyrene                1.59\n",
      "8      Crown glass         1.50 - 1.62\n",
      "9      Flint glass         1.57 - 1.75\n",
      "10         Diamond               2.417\n",
      "11         Acrylic                1.49\n",
      "n1:Air\n",
      "n2:Hydrogen\n",
      "This light pipe will transmit light for all angles of incidence greater than 88.8542689386423\n"
     ]
    }
   ],
   "source": [
    "import csv\n",
    "import math\n",
    "\n",
    "# Read csvfile which contains Index of refraction for common materials.\n",
    "\n",
    "csvfile = open(r'C:\\Users\\jayaj\\Desktop\\Optical_Fiber_Data.csv')\n",
    "reader = csv.reader(csvfile)\n",
    "\n",
    "print(\"Select n1 & n2 values from this table.\")\n",
    "print(df)\n",
    "\n",
    "#Take value of n1 and n2 from user:-    \n",
    "\n",
    "# n1 is the index of refraction of the pipe.\n",
    "# n2 is the index of refraction of the surrounding medium.\n",
    "\n",
    "userInput = input(\"n1:\")\n",
    "userInput2 = input(\"n2:\")\n",
    "n1 = 0\n",
    "n2 = 0\n",
    "\n",
    "for row in reader:\n",
    "        if row[0] == userInput.upper():\n",
    "            n1 = (row[3])\n",
    "        if row[0] == userInput2.upper():\n",
    "            n2 = (row[3])\n",
    "# Use inputed value in formula.    \n",
    "\n",
    "if (n2 > n1):\n",
    "        print (\"Pipe will not transmit the light !!!\")    \n",
    "        \n",
    "else:\n",
    "    import math \n",
    "    calc2 = float(n2)/float(n1)\n",
    "       \n",
    "     \n",
    "    Theta = math.asin(calc2)\n",
    "    convert_Into_Degree= (Theta)*(57.2958)\n",
    "    print(\"This light pipe will transmit light for all angles of incidence greater than\", convert_Into_Degree)"
   ]
  },
  {
   "cell_type": "code",
   "execution_count": null,
   "metadata": {},
   "outputs": [],
   "source": []
  },
  {
   "cell_type": "code",
   "execution_count": null,
   "metadata": {},
   "outputs": [],
   "source": []
  },
  {
   "cell_type": "code",
   "execution_count": null,
   "metadata": {},
   "outputs": [],
   "source": []
  }
 ],
 "metadata": {
  "kernelspec": {
   "display_name": "Python 3",
   "language": "python",
   "name": "python3"
  },
  "language_info": {
   "codemirror_mode": {
    "name": "ipython",
    "version": 3
   },
   "file_extension": ".py",
   "mimetype": "text/x-python",
   "name": "python",
   "nbconvert_exporter": "python",
   "pygments_lexer": "ipython3",
   "version": "3.7.4"
  }
 },
 "nbformat": 4,
 "nbformat_minor": 2
}
