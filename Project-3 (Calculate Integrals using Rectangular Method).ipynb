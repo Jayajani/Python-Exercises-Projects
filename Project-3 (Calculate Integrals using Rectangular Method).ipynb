{
 "cells": [
  {
   "cell_type": "code",
   "execution_count": 3,
   "metadata": {},
   "outputs": [
    {
     "data": {
      "text/plain": [
       "1.9999999835506646"
      ]
     },
     "execution_count": 3,
     "metadata": {},
     "output_type": "execute_result"
    }
   ],
   "source": [
    "import matplotlib.pyplot as plt\n",
    "import numpy as np\n",
    "\n",
    "def rectangle_rule(low, high, f, N):     \n",
    "    # low = Begin interval\n",
    "    # high = End interval\n",
    "    # f = function\n",
    "    # N = number of iterations\n",
    "\n",
    "    rectangle_edges = np.linspace(low, high, N)\n",
    "    area = 0\n",
    "    for i in range(len(rectangle_edges)):\n",
    "        area+=f(low + i*(high-low)/N)*(high-low)/N\n",
    "    return(area)\n",
    "\n",
    "def trig(x):\n",
    "    return(np.sin(x))\n",
    "\n",
    "rectangle_rule(0,np.pi,trig,10000)"
   ]
  },
  {
   "cell_type": "code",
   "execution_count": 4,
   "metadata": {},
   "outputs": [
    {
     "name": "stdout",
     "output_type": "stream",
     "text": [
      "Enter beginning of interval: 0\n",
      "Enter end of interval: 3.14\n",
      "Enter number of iterations: 10000\n",
      "Integral is equal to:  10.315071465848092\n"
     ]
    }
   ],
   "source": [
    "def function(x):\n",
    "    return x * x\n",
    "\n",
    "intervalBegin = float(input(\"Enter beginning of interval: \"))\n",
    "intervalEnd = float(input(\"Enter end of interval: \"))\n",
    "iterations = int(input(\"Enter number of iterations: \"))\n",
    "step = (intervalEnd - intervalBegin) / iterations\n",
    "integral = 0\n",
    "for i in range(iterations):\n",
    "    integral += step * function(intervalBegin + (i - 1) * step)\n",
    "print(\"Integral is equal to: \", integral)"
   ]
  }
 ],
 "metadata": {
  "kernelspec": {
   "display_name": "Python 3",
   "language": "python",
   "name": "python3"
  },
  "language_info": {
   "codemirror_mode": {
    "name": "ipython",
    "version": 3
   },
   "file_extension": ".py",
   "mimetype": "text/x-python",
   "name": "python",
   "nbconvert_exporter": "python",
   "pygments_lexer": "ipython3",
   "version": "3.7.4"
  }
 },
 "nbformat": 4,
 "nbformat_minor": 2
}
