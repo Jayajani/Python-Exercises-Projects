{
 "cells": [
  {
   "cell_type": "code",
   "execution_count": 2,
   "metadata": {},
   "outputs": [
    {
     "name": "stdout",
     "output_type": "stream",
     "text": [
      "Collecting pytube\n",
      "  Downloading https://files.pythonhosted.org/packages/ee/00/62118c1e9e597aed08ddf7d9a6ca45ec95147367280aba73e8b82816fec1/pytube-9.5.3-py3-none-any.whl\n",
      "Installing collected packages: pytube\n",
      "Successfully installed pytube-9.5.3\n",
      "Note: you may need to restart the kernel to use updated packages.\n"
     ]
    }
   ],
   "source": [
    "pip install pytube\n"
   ]
  },
  {
   "cell_type": "code",
   "execution_count": 9,
   "metadata": {},
   "outputs": [
    {
     "name": "stdout",
     "output_type": "stream",
     "text": [
      "<Stream: itag=\"43\" mime_type=\"video/webm\" res=\"360p\" fps=\"30fps\" vcodec=\"vp8.0\" acodec=\"vorbis\">\n"
     ]
    }
   ],
   "source": [
    "from pytube import YouTube\n",
    "\n",
    "print(yt.streams.get_by_itag(43))"
   ]
  },
  {
   "cell_type": "code",
   "execution_count": 11,
   "metadata": {},
   "outputs": [
    {
     "data": {
      "text/plain": [
       "'E:/the secret in hindi movi low of attrection.mp4'"
      ]
     },
     "execution_count": 11,
     "metadata": {},
     "output_type": "execute_result"
    }
   ],
   "source": [
    "yt = YouTube(\"https://www.youtube.com/watch?v=xnRbTAuNh0Y\")\n",
    "\n",
    "dw = yt.streams.get_by_itag(22)\n",
    "dw.download(\"E:/\")"
   ]
  },
  {
   "cell_type": "code",
   "execution_count": null,
   "metadata": {},
   "outputs": [],
   "source": [
    "# One Line code....\n",
    "\n",
    "import pytube\n",
    "pytube.Youtube(\"https://www.youtube.com/watch?v=xnRbTAuNh0Y\").streams.first().download(\"E:/\")\n",
    "\n",
    "\n",
    "# for  Playlist...\n",
    "\n",
    "import pytube\n",
    "pytube.Playlist(\"Playlist link\").download_all(\"E:/\")"
   ]
  }
 ],
 "metadata": {
  "kernelspec": {
   "display_name": "Python 3",
   "language": "python",
   "name": "python3"
  },
  "language_info": {
   "codemirror_mode": {
    "name": "ipython",
    "version": 3
   },
   "file_extension": ".py",
   "mimetype": "text/x-python",
   "name": "python",
   "nbconvert_exporter": "python",
   "pygments_lexer": "ipython3",
   "version": "3.7.4"
  }
 },
 "nbformat": 4,
 "nbformat_minor": 2
}
