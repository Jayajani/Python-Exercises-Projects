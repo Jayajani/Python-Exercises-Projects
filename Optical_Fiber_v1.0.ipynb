{
 "cells": [
  {
   "cell_type": "markdown",
   "metadata": {},
   "source": [
    "#  <span style=\"color:black\"><u> ***Optical Fiber*** </u></span> "
   ]
  },
  {
   "cell_type": "markdown",
   "metadata": {},
   "source": [
    "   \n",
    "An optical fiber is a flexible, transparent fiber made by drawing glass (silica) or plastic to a diameter slightly thicker than that of a human hair. Optical fibers are used most often as a means to transmit light between the two ends of the fiber and find wide usage in fiber-optic communications, where they permit transmission over longer distances and at higher bandwidths (data rates) than electrical cables. Fibers are used instead of metal wires because signals travel along them with less loss; in addition, fibers are immune to electromagnetic interference, a problem from which metal wires suffer.\n",
    "\n",
    " \n",
    "Fibers are also used for illumination and imaging, and are often wrapped in bundles so they may be used to carry light into, or images out of confined spaces, as in the case of a fiberscope. Specially designed fibers are also used for a variety of other applications, some of them being fiber optic sensors and fiber lasers.\n",
    "        \n",
    "        "
   ]
  },
  {
   "cell_type": "markdown",
   "metadata": {},
   "source": [
    "![](https://cadsourcing.com/wp-content/uploads/2017/03/internet-concept-153064938_4600x3067-1.jpeg)"
   ]
  },
  {
   "cell_type": "markdown",
   "metadata": {},
   "source": [
    "![](https://www.hbm.com/fileadmin/mediapool/images/products/sensors/optical/optical-measurement-solutions_2_en.jpg)"
   ]
  },
  {
   "cell_type": "markdown",
   "metadata": {},
   "source": [
    "## <span style=\"color:red\"><u>Principle of operation</span> "
   ]
  },
  {
   "cell_type": "markdown",
   "metadata": {},
   "source": [
    " An optical fiber is a cylindrical dielectric waveguide (nonconducting waveguide) that transmits light along its axis, by the process of total internal reflection. The fiber consists of a core surrounded by a cladding layer, both of which are made of dielectric materials.\n",
    " \n",
    " [![An overview of the operating principles of the optical fiber](https://upload.wikimedia.org/wikipedia/commons/thumb/3/30/Fiber-engineerguy.ogv/220px--Fiber-engineerguy.ogv.jpg)](https://upload.wikimedia.org/wikipedia/commons/3/30/Fiber-engineerguy.ogv \"An overview of the operating principles of the optical fiber\")\n",
    " \n",
    " \n",
    " \n",
    " To confine the optical signal in the core, the refractive index of the core must be greater than that of the cladding. The boundary between the core and cladding may either be abrupt, in step-index fiber, or gradual, in graded-index fiber."
   ]
  },
  {
   "cell_type": "markdown",
   "metadata": {},
   "source": [
    "### <span style=\"color:green\"> Index of refraction</span>"
   ]
  },
  {
   "cell_type": "markdown",
   "metadata": {},
   "source": [
    "The index of refraction (or refractive index) is a way of measuring the speed of light in a material. Light travels fastest in a vacuum, such as in outer space. The speed of light in a vacuum is about 300,000 kilometers (186,000 miles) per second. The refractive index of a medium is calculated by dividing the speed of light in a vacuum by the speed of light in that medium. The refractive index of a vacuum is therefore 1, by definition. A typical single-mode fiber used for telecommunications has a cladding made of pure silica, with an index of 1.444 at 1500 nm, and a core of doped silica with an index around 1.4475. The larger the index of refraction, the slower light travels in that medium. From this information, a simple rule of thumb is that a signal using optical fiber for communication will travel at around 200,000 kilometers per second. To put it another way, the signal will take 5 milliseconds to travel 1,000 kilometers in fiber. Thus a phone call carried by fiber between Sydney and New York, a 16,000-kilometer distance, means that there is a minimum delay of 80 milliseconds (<b>about ${\\displaystyle {\\tfrac {1}{12}}}$ of a second</b>) between when one caller speaks and the other hears. (The fiber, in this case, will probably travel a longer route, and there will be additional delays due to communication equipment switching and the process of encoding and decoding the voice onto the fiber).\n",
    "\n",
    "Most modern optical fiber is weakly guiding, meaning that the difference in refractive index between the core and the cladding is very small (typically less than 1%)."
   ]
  },
  {
   "cell_type": "markdown",
   "metadata": {},
   "source": [
    "###  <span style=\"color:green\"> Total internal reflection</span>"
   ]
  },
  {
   "cell_type": "markdown",
   "metadata": {},
   "source": [
    "When light traveling in an optically dense medium hits a boundary at a steep angle (larger than the critical angle for the boundary), the light is completely reflected. This is called total internal reflection. This effect is used in optical fibers to confine light in the core. Light travels through the fiber core, bouncing back and forth off the boundary between the core and cladding. Because the light must strike the boundary with an angle greater than the critical angle, only light that enters the fiber within a certain range of angles can travel down the fiber without leaking out. This range of angles is called the acceptance cone of the fiber. The size of this acceptance cone is a function of the refractive index difference between the fiber's core and cladding.\n",
    "\n",
    "In simpler terms, there is a maximum angle from the fiber axis at which light may enter the fiber so that it will propagate, or travel, in the core of the fiber. The sine of this maximum angle is the numerical aperture (NA) of the fiber. Fiber with a larger NA requires less precision to splice and work with than fiber with a smaller NA. Single-mode fiber has a small NA."
   ]
  },
  {
   "cell_type": "markdown",
   "metadata": {},
   "source": [
    "### <span style=\"color:green\"> Multi-mode fiber</span>"
   ]
  },
  {
   "cell_type": "markdown",
   "metadata": {},
   "source": [
    "Fiber with large core diameter (greater than 10 micrometers) may be analyzed by geometrical optics. Such fiber is called multi-mode fiber, from the electromagnetic analysis (see below). In a step-index multi-mode fiber, rays of light are guided along the fiber core by total internal reflection. Rays that meet the core-cladding boundary at a high angle (measured relative to a line normal to the boundary), greater than the critical angle for this boundary, are completely reflected. The critical angle (minimum angle for total internal reflection) is determined by the difference in index of refraction between the core and cladding materials. Rays that meet the boundary at a low angle are refracted from the core into the cladding, and do not convey light and hence information along the fiber. The critical angle determines the acceptance angle of the fiber, often reported as a numerical aperture. A high numerical aperture allows light to propagate down the fiber in rays both close to the axis and at various angles, allowing efficient coupling of light into the fiber. However, this high numerical aperture increases the amount of dispersion as rays at different angles have different path lengths and therefore take different times to traverse the fiber.\n",
    "\n",
    "\n",
    "\n",
    "\n"
   ]
  },
  {
   "cell_type": "markdown",
   "metadata": {},
   "source": [
    "![](http://www.chinacablesbuy.com/wp-content/uploads/2016/07/Grade-index-multimode-fiber.jpg)"
   ]
  },
  {
   "cell_type": "markdown",
   "metadata": {},
   "source": [
    "[The propagation of light through a Multi-mode Optical-fiber](https://en.wikipedia.org/wiki/Multi-mode_optical_fiber)\n",
    "  "
   ]
  },
  {
   "cell_type": "markdown",
   "metadata": {},
   "source": [
    "![](https://upload.wikimedia.org/wikipedia/commons/thumb/b/b0/Laser_in_fibre.jpg/800px-Laser_in_fibre.jpg)\n",
    "    \n",
    "    \n",
    "  \n",
    "  \n",
    "  \n",
    "  ##### <center>A laser bouncing down an [acrylic](https://en.wikipedia.org/wiki/Poly(methyl_methacrylate)) rod, illustrating the total internal reflection of light in a multi-mode optical fiber.</center>"
   ]
  },
  {
   "cell_type": "markdown",
   "metadata": {},
   "source": [
    "![](https://www.researchgate.net/profile/Fouad_El-Diasty2/publication/288923541/figure/fig2/AS:522224717266944@1501519483721/Optical-fiber-types-and-their-constructions_Q640.jpg)\n",
    "\n",
    "#### <center>Optical-fiber types</center>"
   ]
  },
  {
   "cell_type": "markdown",
   "metadata": {},
   "source": [
    "![](https://www.vialite.com/wp-content/uploads/2016/02/Fiber-optic-cable-structure.jpg)\n"
   ]
  },
  {
   "cell_type": "markdown",
   "metadata": {},
   "source": [
    "### <center>Structe of signal mode optical-fiber  </center> \n",
    "\n",
    "<center>     1. Core: 8 µm diameter </center> \n",
    "<center> 2. Cladding: 125 µm dia.</center> \n",
    "<center> 3. Buffer: 250 µm dia.</center> \n",
    "<center> 4. Jacket: 400 µm dia.</center>"
   ]
  },
  {
   "cell_type": "markdown",
   "metadata": {},
   "source": [
    "In graded-index fiber, the index of refraction in the core decreases continuously between the axis and the cladding. This causes light rays to bend smoothly as they approach the cladding, rather than reflecting abruptly from the core-cladding boundary. The resulting curved paths reduce multi-path dispersion because high angle rays pass more through the lower-index periphery of the core, rather than the high-index center. The index profile is chosen to minimize the difference in axial propagation speeds of the various rays in the fiber. This ideal index profile is very close to a parabolic relationship between the index and the distance from the axis."
   ]
  },
  {
   "cell_type": "markdown",
   "metadata": {},
   "source": [
    "### <span style=\"color:green\"> Single-mode fiber</span>"
   ]
  },
  {
   "cell_type": "markdown",
   "metadata": {},
   "source": [
    "Fiber with a core diameter less than about ten times the wavelength of the propagating light cannot be modeled using geometric optics. Instead, it must be analyzed as an electromagnetic waveguide structure, by solution of Maxwell's equations as reduced to the electromagnetic wave equation. The electromagnetic analysis may also be required to understand behaviors such as speckle that occur when coherent light propagates in multi-mode fiber. As an optical waveguide, the fiber supports one or more confined transverse modes by which light can propagate along the fiber. Fiber supporting only one mode is called single-mode or mono-mode fiber. The behavior of larger-core multi-mode fiber can also be modeled using the wave equation, which shows that such fiber supports more than one mode of propagation (hence the name). The results of such modeling of multi-mode fiber approximately agree with the predictions of geometric optics, if the fiber core is large enough to support more than a few modes.\n",
    "\n",
    "The waveguide analysis shows that the light energy in the fiber is not completely confined in the core. Instead, especially in single-mode fibers, a significant fraction of the energy in the bound mode travels in the cladding as an evanescent wave.\n",
    "\n",
    "The most common type of single-mode fiber has a core diameter of 8–10 micrometers and is designed for use in the near infrared. The mode structure depends on the wavelength of the light used, so that this fiber actually supports a small number of additional modes at visible wavelengths. Multi-mode fiber, by comparison, is manufactured with core diameters as small as 50 micrometers and as large as hundreds of micrometers. The normalized frequency V for this fiber should be less than the first zero of the Bessel function J0 (approximately 2.405)."
   ]
  },
  {
   "cell_type": "markdown",
   "metadata": {},
   "source": [
    "### <span style=\"color:green\"> Special-purpose fiber</span>"
   ]
  },
  {
   "cell_type": "markdown",
   "metadata": {},
   "source": [
    "Some special-purpose optical fiber is constructed with a non-cylindrical core and/or cladding layer, usually with an elliptical or rectangular cross-section. These include polarization-maintaining fiber and fiber designed to suppress whispering gallery mode propagation. Polarization-maintaining fiber is a unique type of fiber that is commonly used in fiber optic sensors due to its ability to maintain the polarization of the light inserted into it.\n",
    "\n",
    "Photonic-crystal fiber is made with a regular pattern of index variation (often in the form of cylindrical holes that run along the length of the fiber). Such fiber uses diffraction effects instead of or in addition to total internal reflection, to confine light to the fiber's core. The properties of the fiber can be tailored to a wide variety of applications."
   ]
  },
  {
   "cell_type": "code",
   "execution_count": 5,
   "metadata": {},
   "outputs": [],
   "source": [
    "import pandas as pd\n",
    "\n",
    "# Make data-frame of table from excel file.\n",
    "df = pd.read_excel (r'C:\\Users\\jayaj\\Desktop\\Optical_Fiber_Data.xlsx')\n"
   ]
  },
  {
   "cell_type": "code",
   "execution_count": 7,
   "metadata": {},
   "outputs": [
    {
     "name": "stdout",
     "output_type": "stream",
     "text": [
      "         Material  Index of refraction\n",
      "0         Hydrogen              1.0001\n",
      "1              Air              1.0003\n",
      "2   Carbon dioxide              1.0005\n",
      "3            Water               1.333\n",
      "4    Ethyl Alcohol               1.362\n",
      "5        Glycerine               1.473\n",
      "6              Ice                1.31\n",
      "7      Polystyrene                1.59\n",
      "8      Crown glass         1.50 - 1.62\n",
      "9      Flint glass         1.57 - 1.75\n",
      "10         Diamond               2.417\n",
      "11         Acrylic                1.49\n"
     ]
    }
   ],
   "source": [
    "del df['Unnamed: 1']\n",
    "del df['Unnamed: 2']\n",
    "print(df)"
   ]
  },
  {
   "cell_type": "markdown",
   "metadata": {},
   "source": [
    " #    <center> <span style=\"color:blue\">  $ \\Theta = \\sin^-1(\\frac{n2}{n1})$ </span> </center>  \n",
    " "
   ]
  },
  {
   "cell_type": "code",
   "execution_count": 10,
   "metadata": {},
   "outputs": [
    {
     "name": "stdout",
     "output_type": "stream",
     "text": [
      "78.52168712199804\n"
     ]
    }
   ],
   "source": [
    "# Hand_Example:\n",
    "#Index of refrection of Silica = 1.47\n",
    "#Index of refrection of Plastic = 1.5\n",
    "\n",
    "\n",
    "import math\n",
    "calc = 1.47/1.5\n",
    "Theta = math.asin(calc)\n",
    "Convert_Into_degreeFromTheta = Theta*(57.2958)\n",
    "print(Convert_Into_degreeFromTheta)"
   ]
  },
  {
   "cell_type": "code",
   "execution_count": 11,
   "metadata": {},
   "outputs": [
    {
     "name": "stdout",
     "output_type": "stream",
     "text": [
      "Select n1 & n2 values from this table.\n",
      "         Material  Index of refraction\n",
      "0         Hydrogen              1.0001\n",
      "1              Air              1.0003\n",
      "2   Carbon dioxide              1.0005\n",
      "3            Water               1.333\n",
      "4    Ethyl Alcohol               1.362\n",
      "5        Glycerine               1.473\n",
      "6              Ice                1.31\n",
      "7      Polystyrene                1.59\n",
      "8      Crown glass         1.50 - 1.62\n",
      "9      Flint glass         1.57 - 1.75\n",
      "10         Diamond               2.417\n",
      "11         Acrylic                1.49\n",
      "n1:air\n",
      "n2:hydrogen\n",
      "This light pipe will transmit light for all angles of incidence greater than 88.8542689386423\n"
     ]
    }
   ],
   "source": [
    "import csv\n",
    "import math\n",
    "import numpy as np\n",
    "\n",
    "# Read csvfile which contains Index of refraction for common materials.\n",
    "\n",
    "csvfile = open(r'C:\\Users\\jayaj\\Desktop\\Optical_Fiber_Data.csv')\n",
    "reader = csv.reader(csvfile)\n",
    "\n",
    "print(\"Select n1 & n2 values from this table.\")\n",
    "print(df)\n",
    "\n",
    "#Take value of n1 and n2 from user:-    \n",
    "\n",
    "# n1 is the index of refraction of the pipe.\n",
    "# n2 is the index of refraction of the surrounding medium.\n",
    "\n",
    "userInput = input(\"n1:\")\n",
    "userInput2 = input(\"n2:\")\n",
    "n1 = 0\n",
    "n2 = 0\n",
    "\n",
    "for row in reader:\n",
    "        if row[0] == userInput.upper():\n",
    "            n1 = (row[3])\n",
    "        if row[0] == userInput2.upper():\n",
    "            n2 = (row[3])\n",
    "# Use inputed value in formula.    \n",
    "\n",
    "if n2 > n1:\n",
    "        print (\"Pipe will not transmit the light because n2 is greater than n1 !!!\")    \n",
    "        \n",
    "else:\n",
    "    import math \n",
    "    calc2 = float(n2)/float(n1)\n",
    "       \n",
    "     \n",
    "    Theta = math.asin(calc2)\n",
    "    convert_Into_Degree= (Theta)*(57.2958)  # 180/pi = 57.2958\n",
    "    print(\"This light pipe will transmit light for all angles of incidence greater than\", convert_Into_Degree)\n",
    "    "
   ]
  },
  {
   "cell_type": "markdown",
   "metadata": {},
   "source": [
    "> Prepared By Umang Patel"
   ]
  }
 ],
 "metadata": {
  "kernelspec": {
   "display_name": "Python 3",
   "language": "python",
   "name": "python3"
  },
  "language_info": {
   "codemirror_mode": {
    "name": "ipython",
    "version": 3
   },
   "file_extension": ".py",
   "mimetype": "text/x-python",
   "name": "python",
   "nbconvert_exporter": "python",
   "pygments_lexer": "ipython3",
   "version": "3.7.4"
  }
 },
 "nbformat": 4,
 "nbformat_minor": 2
}
