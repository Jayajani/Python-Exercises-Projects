{
 "cells": [
  {
   "cell_type": "markdown",
   "metadata": {},
   "source": [
    "# <span style=\"color:Green\"><div align=\"center\">Electrical circuits</div></span>"
   ]
  },
  {
   "cell_type": "markdown",
   "metadata": {},
   "source": [
    "### <span style=\"color:orange\">What is electrical circuit ?\n",
    "\n",
    "An **electrical circuit** is a path in which electrons from a voltage or current source flow.\n",
    "\n",
    "The point where those electrons enter an electrical circuit is called the \"source\" of electrons. The point where the electrons leave an electrical circuit is called the \"return\" or \"earth ground\". The exit point is called the \"return\" because electrons always end up at the source when they complete the path of an electrical circuit.\n",
    "\n",
    "Electronic circuits usually use direct current sources. The load of an electronic circuit may be as simple as a few resistors, capacitors, and a lamp, all connected together to create the flash in a camera. Or an electronic circuit can be complicated, connecting thousands of resistors, capacitors, and transistors. It may be an integrated circuit such as the microprocessor in a computer.\n",
    "\n",
    "Resistors and other circuit elements can be connected in series or in parallel."
   ]
  },
  {
   "cell_type": "markdown",
   "metadata": {},
   "source": [
    "# <span style=\"color:Purple\">This photo shows all the component of Circuits. "
   ]
  },
  {
   "cell_type": "markdown",
   "metadata": {},
   "source": [
    "![Electrical-circuits](http://www.funscience.in/images/StudyZone/Physics/ChemicalEffectsOfCurrent/ElectricalSymbols.png)"
   ]
  },
  {
   "cell_type": "markdown",
   "metadata": {},
   "source": [
    "## <span style=\"color:Blue\"> Kirchhoff's current law"
   ]
  },
  {
   "cell_type": "markdown",
   "metadata": {},
   "source": [
    "This law is also called Kirchhoff's first law, Kirchhoff's point rule, or Kirchhoff's junction rule (or nodal rule).\n",
    "\n",
    "This law states that, for any node (junction) in an electrical circuit, the sum of currents flowing into that node is equal to the sum of currents flowing out of that node; or equivalently:\n",
    "\n",
    "The algebraic sum of currents in a network of conductors meeting at a point is zero."
   ]
  },
  {
   "cell_type": "markdown",
   "metadata": {},
   "source": [
    "## <span style=\"color:Blue\">Kirchhoff's voltage law"
   ]
  },
  {
   "cell_type": "markdown",
   "metadata": {},
   "source": [
    "This law is also called Kirchhoff's second law, Kirchhoff's loop (or mesh) rule, and Kirchhoff's second rule.\n",
    "\n",
    "This law states that, the directed sum of the potential differences (voltages) around any closed loop is zero."
   ]
  },
  {
   "cell_type": "markdown",
   "metadata": {},
   "source": [
    "![](../ohm.jpg)"
   ]
  },
  {
   "cell_type": "markdown",
   "metadata": {},
   "source": [
    "## ==>><span style=\"color:green\">First see python code for circuit calculation and analyse the circuit.</span> (Manually)"
   ]
  },
  {
   "cell_type": "markdown",
   "metadata": {},
   "source": [
    "![currents-cycles](../A1.png) "
   ]
  },
  {
   "cell_type": "markdown",
   "metadata": {},
   "source": [
    "### Now Identify this given circuits And assign values in clockwise direction.So, we have..."
   ]
  },
  {
   "cell_type": "markdown",
   "metadata": {},
   "source": [
    "![currents-cycles](../A2.png) "
   ]
  },
  {
   "cell_type": "markdown",
   "metadata": {},
   "source": [
    "### So, we have here...\n",
    "\n",
    "#### $$V1 = 10 Volt$$\n",
    "#### $$V2 = 4 Volt$$\n",
    "#### $$R1 = 4000 # 2k Ohm$$\n",
    "#### $$R2 = 4000 # 2k Ohm$$\n",
    "#### $$R3 = 2000 # 1k Ohm$$"
   ]
  },
  {
   "cell_type": "markdown",
   "metadata": {},
   "source": [
    "### 1. Meshes\n",
    "#### Mesh 1: V1-R1-R3 Loop\n",
    "#### Mesh 2: R3-R2-V2 Loop\n",
    "\n",
    "### 2. Mesh Currents (all clockwise)\n",
    "#### I1 for Mesh 1\n",
    "#### I2 for Mesh 2\n",
    "\n"
   ]
  },
  {
   "cell_type": "markdown",
   "metadata": {},
   "source": [
    "-"
   ]
  },
  {
   "cell_type": "markdown",
   "metadata": {},
   "source": [
    "-"
   ]
  },
  {
   "cell_type": "markdown",
   "metadata": {},
   "source": [
    "### 3. Now we find current-1(I1) and current-2(I2) (manually) "
   ]
  },
  {
   "cell_type": "code",
   "execution_count": 13,
   "metadata": {},
   "outputs": [],
   "source": [
    "import numpy as np\n",
    "\n",
    "V1 = 10\n",
    "V2 = 4\n",
    "R1 = 4000 # 2k Ohm\n",
    "R2 = 4000 # 2k Ohm\n",
    "R3 = 2000 # 1k Ohm\n",
    "\n",
    "\n",
    "\n",
    "# Mesh 1\n",
    "# + V1 - R1·I1 - R3·(I1 - I2) = 0\n",
    "# -(R1 + R3)·I1 + R3·I2 = - V1\n",
    "I1_mesh1 = -(R1 + R3)\n",
    "I2_mesh1 = R3\n",
    "b_mesh1 = -V1\n",
    "\n",
    "\n",
    "\n",
    "# Mesh 2\n",
    "\n",
    "# + R3·(I1 - I2) - R2·I2 - V2 = 0\n",
    "# + R3·I1 - (R3 + R2)·I2  = V2\n",
    "I1_mesh2 = R3\n",
    "I2_mesh2 = -(R3 + R2)\n",
    "b_mesh2 = V2\n"
   ]
  },
  {
   "cell_type": "markdown",
   "metadata": {},
   "source": [
    "### 4. Solve the Linear System"
   ]
  },
  {
   "cell_type": "code",
   "execution_count": 14,
   "metadata": {},
   "outputs": [],
   "source": [
    "# -3000 I1 + 1000 I2 = -5\n",
    "# +1000 I1 - 3000 I2 = 2\n",
    "a = np.array([[I1_mesh1, I2_mesh1],[I1_mesh2, I2_mesh2]])\n",
    "b = np.array([b_mesh1, b_mesh2])"
   ]
  },
  {
   "cell_type": "markdown",
   "metadata": {},
   "source": [
    "### 5. Solve System currents."
   ]
  },
  {
   "cell_type": "code",
   "execution_count": 15,
   "metadata": {},
   "outputs": [
    {
     "name": "stdout",
     "output_type": "stream",
     "text": [
      "Current(I1 & I2): - [ 0.001625 -0.000125]\n"
     ]
    }
   ],
   "source": [
    "x = np.linalg.solve(a,b)\n",
    "print('Current(I1 & I2): -', x)"
   ]
  },
  {
   "cell_type": "markdown",
   "metadata": {},
   "source": [
    "# 5. Solve for other Currents and Voltages"
   ]
  },
  {
   "cell_type": "code",
   "execution_count": 16,
   "metadata": {},
   "outputs": [
    {
     "name": "stdout",
     "output_type": "stream",
     "text": [
      "Ix =  0.00175\n",
      "Vx =  3.5\n"
     ]
    }
   ],
   "source": [
    "# The current that flows through R3 is\n",
    "\n",
    "Ix = x[0] - x[1]\n",
    "print(\"Ix = \", Ix)\n",
    "\n",
    "# The voltage along R3 is\n",
    "\n",
    "Vx = R3 * Ix\n",
    "print(\"Vx = \", Vx)"
   ]
  },
  {
   "cell_type": "markdown",
   "metadata": {},
   "source": [
    "-"
   ]
  },
  {
   "cell_type": "markdown",
   "metadata": {},
   "source": [
    "### You can see that the A-matrix contains only the Resistances, having the total resistance of each node in each cell, whilst the b-matrix contains only the Voltages."
   ]
  },
  {
   "cell_type": "markdown",
   "metadata": {},
   "source": [
    "# <span style='color:Purple'>Garph Representation:-"
   ]
  },
  {
   "cell_type": "code",
   "execution_count": 34,
   "metadata": {},
   "outputs": [],
   "source": [
    "%matplotlib inline\n",
    "import networkx as nx"
   ]
  },
  {
   "cell_type": "code",
   "execution_count": 41,
   "metadata": {},
   "outputs": [
    {
     "data": {
      "image/png": "[encoded data removed]",
      "text/plain": [
       "<Figure size 432x288 with 1 Axes>"
      ]
     },
     "metadata": {},
     "output_type": "display_data"
    }
   ],
   "source": [
    "circuit1_Graph = nx.DiGraph()\n",
    "nodes = ['R1','R2','R3','Battery']\n",
    "\n",
    "circuit1_Graph.add_nodes_from(nodes)\n",
    "circuit1_Graph.add_edges_from([('R1','R3'),('Battery','R1'), ('R1','R2'),('R2','R3'),('R3','R1')])\n",
    "nx.draw_spectral(circuit1_Graph, node_color='C1', node_size=800, with_labels=True);"
   ]
  },
  {
   "cell_type": "markdown",
   "metadata": {},
   "source": [
    "### Let's Solve another circuit....>>"
   ]
  },
  {
   "cell_type": "markdown",
   "metadata": {},
   "source": [
    "\n",
    "### <span style=\"color:Blue\">Is in this circuit Kirchhoff's laws are works ?"
   ]
  },
  {
   "cell_type": "markdown",
   "metadata": {},
   "source": [
    "![currents-cycles](../1.png) \n",
    "\n",
    "\n",
    "\n",
    "![currents-cycles](../3.png) \n",
    "\n",
    "\n",
    "### To solve this network using Branch Currents, we’d have to establish five variables to account for each and every unique current in the circuit (I1 through I5). This would require five equations for the solution if we solve this circuit by our hand, But it is very easy for us if we will make funciton for make calculation of this circuit.\n",
    "\n",
    "![currents-cycles](../4.png) \n",
    "\n",
    "#####  It's worth mentioning that even if the hypothetical position is wrong, the result will still be right, but just negative! Seeing a negative current value we will know that the direction hypothesis was wrong and that the current actually flows in the opposite direction. As we can't know in which direction the current will flow in the end, we mostly tend to make all the currents flow in the same consistent direction, which can be clockwise or counterclockwise.\n"
   ]
  },
  {
   "cell_type": "markdown",
   "metadata": {},
   "source": [
    "#### Here is the electrical circuit representation in series of homogenous linear equations>>>"
   ]
  },
  {
   "cell_type": "markdown",
   "metadata": {},
   "source": [
    "\\begin{bmatrix} \n",
    "   -V_1 & {}+{} &  R_1i_1 & {}+{} & R_2(i_1 - i_2) & {}={} & 0 \\\\\n",
    "    R_2(i_2-i_1) & {}+{} &  R_3i_2 & {}+{} &  R_4(i_2-i_3) & {}={} &  0 \\\\\n",
    "    R_4(i_3-i_2) & {}+{} & R_5i_3 & {}+{} & V_2 & {}={} & 0\n",
    "\\end{bmatrix}"
   ]
  },
  {
   "cell_type": "markdown",
   "metadata": {},
   "source": [
    "#### Rearrange Matrix :- \n",
    "\n",
    "\\begin{bmatrix} \n",
    "    R_1i_1  +  R_2i_1  -  R_2i_2  =  V_1 \\\\\n",
    "    R_2i_2  -  R_2i_1  + R_3i_2  +  R_4i_2  - R_4i_3  =  0 \\\\\n",
    "    R_4i_3  -  R_4i_2  + R_5i_3  =  -V_2\n",
    "\\end{bmatrix}\n",
    "\n",
    "#### After some transformation we can get this matrix.\n",
    "\n",
    "\\begin{bmatrix} \n",
    "    i_1(R_1 + R_2) & - & i_2R_2 & + & 0i_3 & = & V_1 \\\\\n",
    "    -i_1R_2 & + & i_2(R_2 + R_3+ R_4) & - & i_3R_4 & = & 0 \\\\\n",
    "    0i_1 & - & i_2R_4 & + & i3(R_4 + R_5) & = & -V_2\n",
    "\\end{bmatrix}\n"
   ]
  },
  {
   "cell_type": "markdown",
   "metadata": {},
   "source": [
    "#### In order to solve this problem, we will further represent this system of linear equations as the matrix multiplication equation:\n",
    "\n",
    "$$ AX = B $$\n",
    "\n",
    "where\n",
    "A = matrix of resistance,\n",
    "B = matrix of voltage.\n",
    "\n",
    "\n",
    "One way to find the unknown matrix X is to make an inverted matrix multiplication:\n",
    "\n",
    "$$ X = A^{-1}B $$\n"
   ]
  },
  {
   "cell_type": "markdown",
   "metadata": {},
   "source": [
    "### <span style=\"color:red\">So, we need X , A & B in matrix form for our calculation,"
   ]
  },
  {
   "cell_type": "markdown",
   "metadata": {},
   "source": [
    " A=\n",
    "\\begin{bmatrix} R1+R2 & -R2 & 0 \\\\ -R2 & R2+R3+R4 & -R4 \\\\ 0 & -R4 & R4+R5 \\end{bmatrix}\n",
    "\n",
    "X=\n",
    "\\begin{bmatrix} i1 & \\\\ i2 & \\\\ i3& \\end{bmatrix}\n",
    "\n",
    "V=\\begin{bmatrix} v1 & \\\\ 0 & \\\\ -v2& \\end{bmatrix}\n"
   ]
  },
  {
   "cell_type": "markdown",
   "metadata": {},
   "source": [
    "##   <span style=\"color:red\"> Now we will make function to get Values of Registers, and Voltage in matrix form from user. and we will find Current of each mesh in this circuit"
   ]
  },
  {
   "cell_type": "code",
   "execution_count": 1,
   "metadata": {},
   "outputs": [],
   "source": [
    "import sympy as sp"
   ]
  },
  {
   "cell_type": "markdown",
   "metadata": {},
   "source": [
    "#### First of all We wil get l1-l6 values from user...(which already discribed) also We will store this all values which we took from user in one matrix. We will call it Get_Matrix()."
   ]
  },
  {
   "cell_type": "code",
   "execution_count": 2,
   "metadata": {},
   "outputs": [],
   "source": [
    "def Get_Resistors_From_User():\n",
    "    resistors = []    # make empty array to append all the userinput in matrix form\n",
    "    \n",
    "    for i in range(6):\n",
    "        resistors.append(input('Enter Resistor value : R{0} : '.format(i+1)).strip())\n",
    "    resistors = [float(i) for i in resistors]\n",
    "    \n",
    "     #Put resistance values according from our equations\n",
    "    matrix = sp.Matrix([[resistors[0]+resistors[1], resistors[1]*(-1), 0],\n",
    "                        [resistors[1]*(-1), resistors[1]+resistors[2]+resistors[3], resistors[3]*(-1)],\n",
    "                        [0, resistors[3]*(-1), resistors[3]+resistors[4]]]) \n",
    "    return matrix\n"
   ]
  },
  {
   "cell_type": "markdown",
   "metadata": {},
   "source": [
    "####  <span style=\"color:red\">So, finally we complete one step of calculation....</span>\n",
    "####  <span style=\"color:red\">Now, let's make function for get voltage from user....and call it Get_Voltage_From_User"
   ]
  },
  {
   "cell_type": "code",
   "execution_count": 19,
   "metadata": {},
   "outputs": [],
   "source": [
    "def Get_Voltage_From_User():\n",
    "    voltage = []       # make empty array to append all the userInput1 in matrix form\n",
    "    \n",
    "    \n",
    "    # here we take range=2 because we have no \n",
    "    for i in range(2):\n",
    "        voltage.append(input('Enter Voltage Value :  V{0} :  '.format(i+1)).strip())\n",
    "    voltage = [float(i) for i in voltage]\n",
    "    \n",
    "    # here take voltage equation values from our equations(it also described in circuit) \n",
    "    matrix = sp.Matrix([voltage[0], 0, voltage[1]*(-1)])   \n",
    "    \n",
    "   \n",
    "    return matrix"
   ]
  },
  {
   "cell_type": "markdown",
   "metadata": {},
   "source": [
    "###  <span style=\"color:red\">Now we have two matrix - Resistors  and Voltage.  Let's go further...."
   ]
  },
  {
   "cell_type": "raw",
   "metadata": {},
   "source": [
    "#Get values of Resistors from user....\n",
    "Resistors = Get_Resistors_From_User()\n",
    "Resistors"
   ]
  },
  {
   "cell_type": "code",
   "execution_count": 21,
   "metadata": {},
   "outputs": [
    {
     "name": "stdin",
     "output_type": "stream",
     "text": [
      "Enter Voltage Value :  V1 :   12\n",
      "Enter Voltage Value :  V2 :   0\n"
     ]
    },
    {
     "data": {
      "text/latex": [
       "$\\displaystyle \\left[\\begin{matrix}12.0\\\\0\\\\0.0\\end{matrix}\\right]$"
      ],
      "text/plain": [
       "Matrix([\n",
       "[12.0],\n",
       "[   0],\n",
       "[ 0.0]])"
      ]
     },
     "execution_count": 21,
     "metadata": {},
     "output_type": "execute_result"
    }
   ],
   "source": [
    "#After that Get values of Volatages from user....\n",
    "Voltage = Get_Voltage_From_User()\n",
    "Voltage"
   ]
  },
  {
   "cell_type": "markdown",
   "metadata": {},
   "source": [
    "###  <span style=\"color:red\"> Now we have two values in matrix form. so, we can calculate current using this formula..\n",
    "\n",
    "$$ X = A^{-1}B $$\n"
   ]
  },
  {
   "cell_type": "code",
   "execution_count": 27,
   "metadata": {},
   "outputs": [
    {
     "data": {
      "text/latex": [
       "$\\displaystyle \\left[\\begin{matrix}0.512999195926025\\\\0.25891181988743\\\\0.110962208523184\\end{matrix}\\right]$"
      ],
      "text/plain": [
       "Matrix([\n",
       "[0.512999195926025],\n",
       "[ 0.25891181988743],\n",
       "[0.110962208523184]])"
      ]
     },
     "execution_count": 27,
     "metadata": {},
     "output_type": "execute_result"
    }
   ],
   "source": [
    "\n",
    "#Here we have Solution calculation of matrix \n",
    "\n",
    "#Here we have Resistors = A and Voltage = B\n",
    "\n",
    "Current_X = Resistors.inv() * Voltage\n",
    "Current_X"
   ]
  },
  {
   "cell_type": "markdown",
   "metadata": {},
   "source": [
    "###  <span style=\"color:blue\">Here we got Current for each mesh in our circuit"
   ]
  },
  {
   "cell_type": "markdown",
   "metadata": {},
   "source": [
    "-"
   ]
  },
  {
   "cell_type": "markdown",
   "metadata": {},
   "source": [
    "-"
   ]
  },
  {
   "cell_type": "markdown",
   "metadata": {},
   "source": [
    "### Let's check our calculation is correct or not. \n",
    "### We will do earlier step one more time... \n",
    "\n",
    "$$ AX = B $$\n"
   ]
  },
  {
   "cell_type": "markdown",
   "metadata": {},
   "source": [
    "#### Let's mutiply (Resistors) A *  X(Current). If we were right, we will get same value of (Voltage) B."
   ]
  },
  {
   "cell_type": "code",
   "execution_count": 28,
   "metadata": {},
   "outputs": [
    {
     "data": {
      "text/latex": [
       "$\\displaystyle \\left[\\begin{matrix}12.0\\\\1.33226762955019 \\cdot 10^{-15}\\\\-4.44089209850063 \\cdot 10^{-16}\\end{matrix}\\right]$"
      ],
      "text/plain": [
       "Matrix([\n",
       "[                 12.0],\n",
       "[ 1.33226762955019e-15],\n",
       "[-4.44089209850063e-16]])"
      ]
     },
     "execution_count": 28,
     "metadata": {},
     "output_type": "execute_result"
    }
   ],
   "source": [
    "verify_Voltage = Resistors*Current_X\n",
    "verify_Voltage"
   ]
  },
  {
   "cell_type": "markdown",
   "metadata": {},
   "source": [
    "-"
   ]
  },
  {
   "cell_type": "markdown",
   "metadata": {},
   "source": [
    "-"
   ]
  },
  {
   "cell_type": "markdown",
   "metadata": {},
   "source": [
    "-"
   ]
  },
  {
   "cell_type": "markdown",
   "metadata": {},
   "source": [
    "##  <span style=\"color:Orange\">Here is the Grpah Representation of our Electrical - Circuit "
   ]
  },
  {
   "cell_type": "markdown",
   "metadata": {},
   "source": [
    "##  <span style=\"color:purple\"> Graph-1"
   ]
  },
  {
   "cell_type": "code",
   "execution_count": 42,
   "metadata": {},
   "outputs": [
    {
     "data": {
      "image/png": "[encoded data removed]",
      "text/plain": [
       "<Figure size 432x288 with 1 Axes>"
      ]
     },
     "metadata": {},
     "output_type": "display_data"
    }
   ],
   "source": [
    "circuit_Graph2 = nx.DiGraph()\n",
    "nodes = ['R1','R2','R3','R4','R5']\n",
    "\n",
    "circuit_Graph2.add_nodes_from(nodes)\n",
    "circuit_Graph2.add_edges_from([('R1','R3'), ('R2','R1'),('R3','R2'),('R4','R3'),('R3','R5'),('R5','R4'),('R4','R2')])\n",
    "nx.draw_spectral(circuit_Graph2, node_color='C2', node_size=650, with_labels=True);"
   ]
  },
  {
   "cell_type": "markdown",
   "metadata": {},
   "source": [
    "### We can represent graph of circuit like this also..."
   ]
  },
  {
   "cell_type": "markdown",
   "metadata": {},
   "source": [
    " ## <span style=\"color:purple\">Graph-2"
   ]
  },
  {
   "cell_type": "code",
   "execution_count": 43,
   "metadata": {},
   "outputs": [
    {
     "data": {
      "image/png": "[encoded data removed]",
      "text/plain": [
       "<Figure size 432x288 with 1 Axes>"
      ]
     },
     "metadata": {},
     "output_type": "display_data"
    }
   ],
   "source": [
    "circuit_Graph = nx.DiGraph()\n",
    "nodes = ['R1','R2','R3','R4','R5','R6']\n",
    "\n",
    "circuit_Graph.add_nodes_from(nodes)\n",
    "circuit_Graph.add_edges_from([('R2','R1'), ('R1','R3'),('R3','R2'),('R4','R5'),('R4','R2'),('R3','R5'),('R5','R6'),('R6','R4')])\n",
    "nx.draw_spectral(circuit_Graph, node_color='C2', node_size=650, with_labels=True);"
   ]
  },
  {
   "cell_type": "code",
   "execution_count": null,
   "metadata": {},
   "outputs": [],
   "source": []
  }
 ],
 "metadata": {
  "kernelspec": {
   "display_name": "Python 3",
   "language": "python",
   "name": "python3"
  },
  "language_info": {
   "codemirror_mode": {
    "name": "ipython",
    "version": 3
   },
   "file_extension": ".py",
   "mimetype": "text/x-python",
   "name": "python",
   "nbconvert_exporter": "python",
   "pygments_lexer": "ipython3",
   "version": "3.7.4"
  }
 },
 "nbformat": 4,
 "nbformat_minor": 4
}
