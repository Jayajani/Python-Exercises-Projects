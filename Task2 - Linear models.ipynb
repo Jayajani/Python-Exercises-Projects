{
 "cells": [
  {
   "cell_type": "markdown",
   "metadata": {},
   "source": [
    "### Task 1 : Linear Regression"
   ]
  },
  {
   "cell_type": "markdown",
   "metadata": {},
   "source": [
    "Become familiar with the determining linear relationship between two variables, predicting values and assessing the accuracy of the linear model.\n",
    "Prepare the full script to run."
   ]
  },
  {
   "cell_type": "code",
   "execution_count": 29,
   "metadata": {},
   "outputs": [
    {
     "data": {
      "image/png": "[encoded data removed]",
      "text/plain": [
       "<Figure size 432x288 with 1 Axes>"
      ]
     },
     "metadata": {
      "needs_background": "light"
     },
     "output_type": "display_data"
    }
   ],
   "source": [
    "import matplotlib.pyplot as plt\n",
    "from scipy import stats\n",
    "\n",
    "x = [5,7,8,7,2,17,2,9,4,11,12,9,6]\n",
    "y = [99,86,87,88,111,86,103,87,94,78,77,85,86]\n",
    "slope, intercept, r, p, std_err = stats.linregress(x, y)\n",
    "\n",
    "def myfunc(x):\n",
    "  return slope * x + intercept\n",
    "\n",
    "mymodel = list(map(myfunc, x))\n",
    "\n",
    "plt.scatter(x, y)\n",
    "plt.plot(x, mymodel)\n",
    "plt.show()"
   ]
  },
  {
   "cell_type": "code",
   "execution_count": 30,
   "metadata": {},
   "outputs": [
    {
     "data": {
      "text/plain": [
       "-0.758591524376155"
      ]
     },
     "execution_count": 30,
     "metadata": {},
     "output_type": "execute_result"
    }
   ],
   "source": [
    "r"
   ]
  },
  {
   "cell_type": "code",
   "execution_count": 31,
   "metadata": {},
   "outputs": [
    {
     "name": "stdout",
     "output_type": "stream",
     "text": [
      "85.59308314937454\n"
     ]
    }
   ],
   "source": [
    "speed = myfunc(10)\n",
    "\n",
    "print(speed)"
   ]
  },
  {
   "cell_type": "markdown",
   "metadata": {},
   "source": [
    "### Bad Fit"
   ]
  },
  {
   "cell_type": "code",
   "execution_count": 32,
   "metadata": {},
   "outputs": [
    {
     "data": {
      "image/png": "[encoded data removed]",
      "text/plain": [
       "<Figure size 432x288 with 1 Axes>"
      ]
     },
     "metadata": {
      "needs_background": "light"
     },
     "output_type": "display_data"
    }
   ],
   "source": [
    "import matplotlib.pyplot as plt\n",
    "from scipy import stats\n",
    "\n",
    "x = [89,43,36,36,95,10,66,34,38,20,26,29,48,64,6,5,36,66,72,40]\n",
    "y = [21,46,3,35,67,95,53,72,58,10,26,34,90,33,38,20,56,2,47,15]\n",
    "\n",
    "slope, intercept, r, p, std_err = stats.linregress(x, y)\n",
    "\n",
    "def myfunc(x):\n",
    "  return slope * x + intercept\n",
    "\n",
    "mymodel = list(map(myfunc, x))\n",
    "\n",
    "plt.scatter(x, y)\n",
    "plt.plot(x, mymodel)\n",
    "plt.show()"
   ]
  },
  {
   "cell_type": "code",
   "execution_count": 33,
   "metadata": {},
   "outputs": [
    {
     "data": {
      "text/plain": [
       "0.01331814154297491"
      ]
     },
     "execution_count": 33,
     "metadata": {},
     "output_type": "execute_result"
    }
   ],
   "source": [
    "r"
   ]
  },
  {
   "cell_type": "markdown",
   "metadata": {},
   "source": [
    "### Task 2 : Multiple Linear Regression"
   ]
  },
  {
   "cell_type": "markdown",
   "metadata": {},
   "source": [
    "Follow the examples of multiple linear regression and scalling in multiple regression.\n",
    "Become familiar with building the multiple regression models and using them to predict values.\n",
    "Prepare the full script to run."
   ]
  },
  {
   "cell_type": "code",
   "execution_count": 34,
   "metadata": {},
   "outputs": [],
   "source": [
    "import pandas\n",
    "df = pandas.read_csv(\"cars.csv\")"
   ]
  },
  {
   "cell_type": "code",
   "execution_count": 34,
   "metadata": {},
   "outputs": [],
   "source": [
    "X = df[['Month ', 'Cost']]\n",
    "y = df[['A','B']]"
   ]
  },
  {
   "cell_type": "code",
   "execution_count": 35,
   "metadata": {},
   "outputs": [
    {
     "data": {
      "text/plain": [
       "LinearRegression(copy_X=True, fit_intercept=True, n_jobs=None, normalize=False)"
      ]
     },
     "execution_count": 35,
     "metadata": {},
     "output_type": "execute_result"
    }
   ],
   "source": [
    "from sklearn import linear_model\n",
    "regr1 = linear_model.LinearRegression()\n",
    "regr1.fit(X, y)"
   ]
  },
  {
   "cell_type": "code",
   "execution_count": 37,
   "metadata": {},
   "outputs": [
    {
     "name": "stdout",
     "output_type": "stream",
     "text": [
      "[[1014.58540211  895.57339172]]\n"
     ]
    }
   ],
   "source": [
    "predictedCO2 = regr1.predict([[15, 45968]])\n",
    "\n",
    "print(predictedCO2)"
   ]
  },
  {
   "cell_type": "code",
   "execution_count": 38,
   "metadata": {},
   "outputs": [
    {
     "name": "stdout",
     "output_type": "stream",
     "text": [
      "[[ 4.4222908   0.06684308]\n",
      " [-5.10224587  0.06931061]]\n"
     ]
    }
   ],
   "source": [
    "print(regr1.coef_)\n"
   ]
  },
  {
   "cell_type": "code",
   "execution_count": 39,
   "metadata": {},
   "outputs": [
    {
     "name": "stdout",
     "output_type": "stream",
     "text": [
      "[[ 12556.06414209 -18961.27066175]]\n"
     ]
    }
   ],
   "source": [
    "predictedCO2 = regr1.predict([[3300, 1300]])\n",
    "\n",
    "print(predictedCO2)"
   ]
  },
  {
   "cell_type": "markdown",
   "metadata": {},
   "source": [
    "### Scale"
   ]
  },
  {
   "cell_type": "code",
   "execution_count": 43,
   "metadata": {},
   "outputs": [
    {
     "name": "stdout",
     "output_type": "stream",
     "text": [
      "[[-1.64316767e+00  4.47092994e-02]\n",
      " [-1.46059349e+00 -2.24362977e-01]\n",
      " [-1.27801930e+00  5.80826730e-02]\n",
      " [-1.09544512e+00 -1.50981164e+00]\n",
      " [-9.12870929e-01  1.06322543e+00]\n",
      " [-7.30296743e-01  3.03082877e-01]\n",
      " [-5.47722558e-01 -6.16470289e-01]\n",
      " [-3.65148372e-01 -7.25062083e-01]\n",
      " [-1.82574186e-01 -1.81258482e+00]\n",
      " [ 0.00000000e+00  2.26094477e+00]\n",
      " [ 1.82574186e-01  3.46412607e-01]\n",
      " [ 3.65148372e-01 -2.80418528e-02]\n",
      " [ 5.47722558e-01 -1.22255158e+00]\n",
      " [ 7.30296743e-01 -1.29510565e-03]\n",
      " [ 9.12870929e-01  8.62624826e-01]\n",
      " [ 1.09544512e+00  1.83246188e+00]\n",
      " [ 1.27801930e+00 -6.17005224e-01]\n",
      " [ 1.46059349e+00 -1.50541955e-01]\n",
      " [ 1.64316767e+00  1.36183175e-01]]\n",
      "\n"
     ]
    }
   ],
   "source": [
    "import pandas\n",
    "from sklearn import linear_model\n",
    "from sklearn.preprocessing import StandardScaler\n",
    "scale = StandardScaler()\n",
    "\n",
    "df = pandas.read_csv(\"Book1.csv\")\n",
    "\n",
    "X = df[['Month ', 'Cost']]\n",
    "\n",
    "scaledX = scale.fit_transform(X)\n",
    "\n",
    "print(scaledX)\n",
    "print()\n"
   ]
  },
  {
   "cell_type": "code",
   "execution_count": 44,
   "metadata": {},
   "outputs": [
    {
     "ename": "ValueError",
     "evalue": "non-broadcastable output operand with shape (1,1) doesn't match the broadcast shape (1,2)",
     "output_type": "error",
     "traceback": [
      "\u001b[1;31m---------------------------------------------------------------------------\u001b[0m",
      "\u001b[1;31mValueError\u001b[0m                                Traceback (most recent call last)",
      "\u001b[1;32m<ipython-input-44-3693e194ef11>\u001b[0m in \u001b[0;36m<module>\u001b[1;34m\u001b[0m\n\u001b[0;32m      9\u001b[0m \u001b[0mregr\u001b[0m\u001b[1;33m.\u001b[0m\u001b[0mfit\u001b[0m\u001b[1;33m(\u001b[0m\u001b[0mscaledX\u001b[0m\u001b[1;33m,\u001b[0m \u001b[0my\u001b[0m\u001b[1;33m)\u001b[0m\u001b[1;33m\u001b[0m\u001b[1;33m\u001b[0m\u001b[0m\n\u001b[0;32m     10\u001b[0m \u001b[1;33m\u001b[0m\u001b[0m\n\u001b[1;32m---> 11\u001b[1;33m \u001b[0mscaled\u001b[0m \u001b[1;33m=\u001b[0m \u001b[0mscale\u001b[0m\u001b[1;33m.\u001b[0m\u001b[0mtransform\u001b[0m\u001b[1;33m(\u001b[0m\u001b[1;33m[\u001b[0m\u001b[1;33m[\u001b[0m\u001b[1;36m5\u001b[0m\u001b[1;33m]\u001b[0m\u001b[1;33m]\u001b[0m\u001b[1;33m)\u001b[0m\u001b[1;33m\u001b[0m\u001b[1;33m\u001b[0m\u001b[0m\n\u001b[0m\u001b[0;32m     12\u001b[0m \u001b[1;33m\u001b[0m\u001b[0m\n\u001b[0;32m     13\u001b[0m \u001b[0mpredictedCO2\u001b[0m \u001b[1;33m=\u001b[0m \u001b[0mregr\u001b[0m\u001b[1;33m.\u001b[0m\u001b[0mpredict\u001b[0m\u001b[1;33m(\u001b[0m\u001b[1;33m[\u001b[0m\u001b[0mscaled\u001b[0m\u001b[1;33m[\u001b[0m\u001b[1;36m0\u001b[0m\u001b[1;33m]\u001b[0m\u001b[1;33m]\u001b[0m\u001b[1;33m)\u001b[0m\u001b[1;33m\u001b[0m\u001b[1;33m\u001b[0m\u001b[0m\n",
      "\u001b[1;32m~\\Anaconda3\\lib\\site-packages\\sklearn\\preprocessing\\_data.py\u001b[0m in \u001b[0;36mtransform\u001b[1;34m(self, X, copy)\u001b[0m\n\u001b[0;32m    804\u001b[0m         \u001b[1;32melse\u001b[0m\u001b[1;33m:\u001b[0m\u001b[1;33m\u001b[0m\u001b[1;33m\u001b[0m\u001b[0m\n\u001b[0;32m    805\u001b[0m             \u001b[1;32mif\u001b[0m \u001b[0mself\u001b[0m\u001b[1;33m.\u001b[0m\u001b[0mwith_mean\u001b[0m\u001b[1;33m:\u001b[0m\u001b[1;33m\u001b[0m\u001b[1;33m\u001b[0m\u001b[0m\n\u001b[1;32m--> 806\u001b[1;33m                 \u001b[0mX\u001b[0m \u001b[1;33m-=\u001b[0m \u001b[0mself\u001b[0m\u001b[1;33m.\u001b[0m\u001b[0mmean_\u001b[0m\u001b[1;33m\u001b[0m\u001b[1;33m\u001b[0m\u001b[0m\n\u001b[0m\u001b[0;32m    807\u001b[0m             \u001b[1;32mif\u001b[0m \u001b[0mself\u001b[0m\u001b[1;33m.\u001b[0m\u001b[0mwith_std\u001b[0m\u001b[1;33m:\u001b[0m\u001b[1;33m\u001b[0m\u001b[1;33m\u001b[0m\u001b[0m\n\u001b[0;32m    808\u001b[0m                 \u001b[0mX\u001b[0m \u001b[1;33m/=\u001b[0m \u001b[0mself\u001b[0m\u001b[1;33m.\u001b[0m\u001b[0mscale_\u001b[0m\u001b[1;33m\u001b[0m\u001b[1;33m\u001b[0m\u001b[0m\n",
      "\u001b[1;31mValueError\u001b[0m: non-broadcastable output operand with shape (1,1) doesn't match the broadcast shape (1,2)"
     ]
    }
   ],
   "source": [
    "df = pandas.read_csv(\"Book1.csv\")\n",
    "\n",
    "X = df[['Month ', 'Cost']]\n",
    "y = df[['A','B']]\n",
    "\n",
    "scaledX = scale.fit_transform(X)\n",
    "\n",
    "regr = linear_model.LinearRegression()\n",
    "regr.fit(scaledX, y)\n",
    "\n",
    "scaled = scale.transform([[5]])\n",
    "\n",
    "predictedCO2 = regr.predict([scaled[0]])\n",
    "print(predictedCO2)\n"
   ]
  },
  {
   "cell_type": "code",
   "execution_count": 42,
   "metadata": {},
   "outputs": [
    {
     "data": {
      "text/plain": [
       "numpy.ndarray"
      ]
     },
     "execution_count": 42,
     "metadata": {},
     "output_type": "execute_result"
    }
   ],
   "source": [
    "type(scaled)"
   ]
  },
  {
   "cell_type": "markdown",
   "metadata": {},
   "source": [
    "### Task 3"
   ]
  },
  {
   "cell_type": "code",
   "execution_count": 43,
   "metadata": {},
   "outputs": [],
   "source": [
    "x = [0,1,2,3,4,5,6,7,8,9,10]"
   ]
  },
  {
   "cell_type": "markdown",
   "metadata": {},
   "source": [
    "### Task 4"
   ]
  },
  {
   "cell_type": "markdown",
   "metadata": {},
   "source": [
    "On the basis of measurements, determine the multiple linear relationship between fuel consumption and engine rotation speed and load. Do the same with concentration of CO2 in exhausted gases.\n",
    "For both variables, build two models using raw and scaled values of rotation speed and load.\n",
    "Compare the predictions of fuel consumption and CO2 concentration for four working conditions (rotation speed 1500rpm and engine load levels 0, 100, 200 and 300 Nm) using both models. Use plots to graphical visualisation of prediction."
   ]
  },
  {
   "cell_type": "code",
   "execution_count": 47,
   "metadata": {},
   "outputs": [],
   "source": [
    "df = pandas.read_excel(\"Fuel.xlsx\")"
   ]
  },
  {
   "cell_type": "code",
   "execution_count": 48,
   "metadata": {},
   "outputs": [
    {
     "data": {
      "text/html": [
       "<div>\n",
       "<style scoped>\n",
       "    .dataframe tbody tr th:only-of-type {\n",
       "        vertical-align: middle;\n",
       "    }\n",
       "\n",
       "    .dataframe tbody tr th {\n",
       "        vertical-align: top;\n",
       "    }\n",
       "\n",
       "    .dataframe thead th {\n",
       "        text-align: right;\n",
       "    }\n",
       "</style>\n",
       "<table border=\"1\" class=\"dataframe\">\n",
       "  <thead>\n",
       "    <tr style=\"text-align: right;\">\n",
       "      <th></th>\n",
       "      <th>Engine torque [Nm]</th>\n",
       "      <th>Obroty[rpm]</th>\n",
       "      <th>Fuel consumption [g/s]</th>\n",
       "      <th>CO2 [%]</th>\n",
       "    </tr>\n",
       "  </thead>\n",
       "  <tbody>\n",
       "    <tr>\n",
       "      <td>0</td>\n",
       "      <td>0.5</td>\n",
       "      <td>1200.3</td>\n",
       "      <td>0.299</td>\n",
       "      <td>1.203</td>\n",
       "    </tr>\n",
       "    <tr>\n",
       "      <td>1</td>\n",
       "      <td>100.0</td>\n",
       "      <td>1201.5</td>\n",
       "      <td>0.911</td>\n",
       "      <td>3.510</td>\n",
       "    </tr>\n",
       "    <tr>\n",
       "      <td>2</td>\n",
       "      <td>199.9</td>\n",
       "      <td>1200.6</td>\n",
       "      <td>1.636</td>\n",
       "      <td>6.150</td>\n",
       "    </tr>\n",
       "    <tr>\n",
       "      <td>3</td>\n",
       "      <td>-0.1</td>\n",
       "      <td>1399.4</td>\n",
       "      <td>0.358</td>\n",
       "      <td>1.251</td>\n",
       "    </tr>\n",
       "    <tr>\n",
       "      <td>4</td>\n",
       "      <td>100.0</td>\n",
       "      <td>1399.6</td>\n",
       "      <td>1.065</td>\n",
       "      <td>3.546</td>\n",
       "    </tr>\n",
       "    <tr>\n",
       "      <td>5</td>\n",
       "      <td>199.9</td>\n",
       "      <td>1400.2</td>\n",
       "      <td>1.901</td>\n",
       "      <td>6.200</td>\n",
       "    </tr>\n",
       "    <tr>\n",
       "      <td>6</td>\n",
       "      <td>299.8</td>\n",
       "      <td>1399.7</td>\n",
       "      <td>2.807</td>\n",
       "      <td>8.516</td>\n",
       "    </tr>\n",
       "    <tr>\n",
       "      <td>7</td>\n",
       "      <td>0.3</td>\n",
       "      <td>1599.3</td>\n",
       "      <td>0.493</td>\n",
       "      <td>1.533</td>\n",
       "    </tr>\n",
       "    <tr>\n",
       "      <td>8</td>\n",
       "      <td>100.4</td>\n",
       "      <td>1600.1</td>\n",
       "      <td>1.274</td>\n",
       "      <td>3.961</td>\n",
       "    </tr>\n",
       "    <tr>\n",
       "      <td>9</td>\n",
       "      <td>199.9</td>\n",
       "      <td>1600.5</td>\n",
       "      <td>2.507</td>\n",
       "      <td>7.177</td>\n",
       "    </tr>\n",
       "    <tr>\n",
       "      <td>10</td>\n",
       "      <td>299.8</td>\n",
       "      <td>1600.4</td>\n",
       "      <td>3.367</td>\n",
       "      <td>9.344</td>\n",
       "    </tr>\n",
       "    <tr>\n",
       "      <td>11</td>\n",
       "      <td>329.9</td>\n",
       "      <td>1600.4</td>\n",
       "      <td>3.692</td>\n",
       "      <td>9.836</td>\n",
       "    </tr>\n",
       "    <tr>\n",
       "      <td>12</td>\n",
       "      <td>0.8</td>\n",
       "      <td>1801.8</td>\n",
       "      <td>0.561</td>\n",
       "      <td>1.611</td>\n",
       "    </tr>\n",
       "    <tr>\n",
       "      <td>13</td>\n",
       "      <td>100.0</td>\n",
       "      <td>1800.2</td>\n",
       "      <td>1.531</td>\n",
       "      <td>4.100</td>\n",
       "    </tr>\n",
       "    <tr>\n",
       "      <td>14</td>\n",
       "      <td>199.9</td>\n",
       "      <td>1799.9</td>\n",
       "      <td>2.800</td>\n",
       "      <td>6.900</td>\n",
       "    </tr>\n",
       "    <tr>\n",
       "      <td>15</td>\n",
       "      <td>299.8</td>\n",
       "      <td>1799.8</td>\n",
       "      <td>3.770</td>\n",
       "      <td>9.111</td>\n",
       "    </tr>\n",
       "    <tr>\n",
       "      <td>16</td>\n",
       "      <td>0.9</td>\n",
       "      <td>2000.3</td>\n",
       "      <td>0.648</td>\n",
       "      <td>1.700</td>\n",
       "    </tr>\n",
       "    <tr>\n",
       "      <td>17</td>\n",
       "      <td>100.0</td>\n",
       "      <td>2000.0</td>\n",
       "      <td>1.672</td>\n",
       "      <td>4.100</td>\n",
       "    </tr>\n",
       "    <tr>\n",
       "      <td>18</td>\n",
       "      <td>200.0</td>\n",
       "      <td>2000.9</td>\n",
       "      <td>2.987</td>\n",
       "      <td>6.500</td>\n",
       "    </tr>\n",
       "    <tr>\n",
       "      <td>19</td>\n",
       "      <td>299.9</td>\n",
       "      <td>2001.5</td>\n",
       "      <td>4.235</td>\n",
       "      <td>8.500</td>\n",
       "    </tr>\n",
       "    <tr>\n",
       "      <td>20</td>\n",
       "      <td>0.6</td>\n",
       "      <td>2200.9</td>\n",
       "      <td>0.807</td>\n",
       "      <td>1.986</td>\n",
       "    </tr>\n",
       "    <tr>\n",
       "      <td>21</td>\n",
       "      <td>100.0</td>\n",
       "      <td>2199.7</td>\n",
       "      <td>1.918</td>\n",
       "      <td>4.263</td>\n",
       "    </tr>\n",
       "    <tr>\n",
       "      <td>22</td>\n",
       "      <td>199.9</td>\n",
       "      <td>2199.2</td>\n",
       "      <td>3.245</td>\n",
       "      <td>6.359</td>\n",
       "    </tr>\n",
       "    <tr>\n",
       "      <td>23</td>\n",
       "      <td>299.9</td>\n",
       "      <td>2200.7</td>\n",
       "      <td>4.526</td>\n",
       "      <td>7.948</td>\n",
       "    </tr>\n",
       "    <tr>\n",
       "      <td>24</td>\n",
       "      <td>0.9</td>\n",
       "      <td>2400.8</td>\n",
       "      <td>0.948</td>\n",
       "      <td>2.100</td>\n",
       "    </tr>\n",
       "    <tr>\n",
       "      <td>25</td>\n",
       "      <td>100.0</td>\n",
       "      <td>2400.0</td>\n",
       "      <td>2.184</td>\n",
       "      <td>4.300</td>\n",
       "    </tr>\n",
       "    <tr>\n",
       "      <td>26</td>\n",
       "      <td>200.0</td>\n",
       "      <td>2400.1</td>\n",
       "      <td>3.500</td>\n",
       "      <td>6.190</td>\n",
       "    </tr>\n",
       "  </tbody>\n",
       "</table>\n",
       "</div>"
      ],
      "text/plain": [
       "    Engine torque [Nm]  Obroty[rpm]  Fuel consumption [g/s]  CO2 [%]\n",
       "0                  0.5       1200.3                   0.299    1.203\n",
       "1                100.0       1201.5                   0.911    3.510\n",
       "2                199.9       1200.6                   1.636    6.150\n",
       "3                 -0.1       1399.4                   0.358    1.251\n",
       "4                100.0       1399.6                   1.065    3.546\n",
       "5                199.9       1400.2                   1.901    6.200\n",
       "6                299.8       1399.7                   2.807    8.516\n",
       "7                  0.3       1599.3                   0.493    1.533\n",
       "8                100.4       1600.1                   1.274    3.961\n",
       "9                199.9       1600.5                   2.507    7.177\n",
       "10               299.8       1600.4                   3.367    9.344\n",
       "11               329.9       1600.4                   3.692    9.836\n",
       "12                 0.8       1801.8                   0.561    1.611\n",
       "13               100.0       1800.2                   1.531    4.100\n",
       "14               199.9       1799.9                   2.800    6.900\n",
       "15               299.8       1799.8                   3.770    9.111\n",
       "16                 0.9       2000.3                   0.648    1.700\n",
       "17               100.0       2000.0                   1.672    4.100\n",
       "18               200.0       2000.9                   2.987    6.500\n",
       "19               299.9       2001.5                   4.235    8.500\n",
       "20                 0.6       2200.9                   0.807    1.986\n",
       "21               100.0       2199.7                   1.918    4.263\n",
       "22               199.9       2199.2                   3.245    6.359\n",
       "23               299.9       2200.7                   4.526    7.948\n",
       "24                 0.9       2400.8                   0.948    2.100\n",
       "25               100.0       2400.0                   2.184    4.300\n",
       "26               200.0       2400.1                   3.500    6.190"
      ]
     },
     "execution_count": 48,
     "metadata": {},
     "output_type": "execute_result"
    }
   ],
   "source": [
    "df"
   ]
  },
  {
   "cell_type": "code",
   "execution_count": 49,
   "metadata": {},
   "outputs": [],
   "source": [
    "var1 = df[[\"Engine torque [Nm]\",\"Obroty[rpm]\"]]"
   ]
  },
  {
   "cell_type": "code",
   "execution_count": 50,
   "metadata": {},
   "outputs": [],
   "source": [
    "var2 = df[\"CO2 [%]\"]"
   ]
  },
  {
   "cell_type": "code",
   "execution_count": 51,
   "metadata": {},
   "outputs": [],
   "source": [
    "var3 = df[\"Fuel consumption [g/s]\"]"
   ]
  },
  {
   "cell_type": "code",
   "execution_count": 52,
   "metadata": {},
   "outputs": [
    {
     "data": {
      "text/plain": [
       "LinearRegression(copy_X=True, fit_intercept=True, n_jobs=None, normalize=False)"
      ]
     },
     "execution_count": 52,
     "metadata": {},
     "output_type": "execute_result"
    }
   ],
   "source": [
    "regr = linear_model.LinearRegression()\n",
    "regr.fit(var1, var2)"
   ]
  },
  {
   "cell_type": "code",
   "execution_count": 53,
   "metadata": {},
   "outputs": [],
   "source": [
    "loadlevel = [0,100,200,300]\n",
    "rpm = 1500"
   ]
  },
  {
   "cell_type": "code",
   "execution_count": 54,
   "metadata": {},
   "outputs": [
    {
     "name": "stdout",
     "output_type": "stream",
     "text": [
      "For loadlevel :  0   CO2 Emission :  [1.51613839]\n",
      "For loadlevel :  100   CO2 Emission :  [3.92146451]\n",
      "For loadlevel :  200   CO2 Emission :  [6.32679064]\n",
      "For loadlevel :  300   CO2 Emission :  [8.73211677]\n"
     ]
    }
   ],
   "source": [
    "for i in range(len(loadlevel)):\n",
    "    predictionCO2 = regr.predict([[loadlevel[i], rpm]])\n",
    "    print(\"For loadlevel : \" , loadlevel[i],  \" \", \"CO2 Emission : \" ,  predictionCO2)"
   ]
  },
  {
   "cell_type": "code",
   "execution_count": 55,
   "metadata": {},
   "outputs": [
    {
     "data": {
      "text/plain": [
       "LinearRegression(copy_X=True, fit_intercept=True, n_jobs=None, normalize=False)"
      ]
     },
     "execution_count": 55,
     "metadata": {},
     "output_type": "execute_result"
    }
   ],
   "source": [
    "regrfuel = linear_model.LinearRegression()\n",
    "regrfuel.fit(var1, var3)"
   ]
  },
  {
   "cell_type": "code",
   "execution_count": 56,
   "metadata": {},
   "outputs": [
    {
     "name": "stdout",
     "output_type": "stream",
     "text": [
      "For loadlevel :  0   Fuel consumption :  [0.18137365]\n",
      "For loadlevel :  100   Fuel consumption :  [1.23595211]\n",
      "For loadlevel :  200   Fuel consumption :  [2.29053057]\n",
      "For loadlevel :  300   Fuel consumption :  [3.34510903]\n"
     ]
    }
   ],
   "source": [
    "for i in range(len(loadlevel)):\n",
    "    predictionfuel = regrfuel.predict([[loadlevel[i], rpm]])\n",
    "    print(\"For loadlevel : \" , loadlevel[i],  \" \", \"Fuel consumption : \" ,  predictionfuel)"
   ]
  },
  {
   "cell_type": "markdown",
   "metadata": {},
   "source": [
    "### Scalar Model"
   ]
  },
  {
   "cell_type": "code",
   "execution_count": 57,
   "metadata": {},
   "outputs": [],
   "source": [
    "Scalevar1 = df[[\"Engine torque [Nm]\",\"Obroty[rpm]\"]]\n",
    "Scalevar2 = df[\"CO2 [%]\"]\n",
    "Scalevar3 = df[\"Fuel consumption [g/s]\"]"
   ]
  },
  {
   "cell_type": "code",
   "execution_count": 58,
   "metadata": {},
   "outputs": [
    {
     "name": "stdout",
     "output_type": "stream",
     "text": [
      "For loadlevel :  0   Scaled CO2 Emission :  [1.51613839]\n",
      "For loadlevel :  100   Scaled CO2 Emission :  [3.92146451]\n",
      "For loadlevel :  200   Scaled CO2 Emission :  [6.32679064]\n",
      "For loadlevel :  300   Scaled CO2 Emission :  [8.73211677]\n"
     ]
    }
   ],
   "source": [
    "scaledScaleX = scale.fit_transform(Scalevar1)\n",
    "\n",
    "regrScale = linear_model.LinearRegression()\n",
    "regrScale.fit(scaledScaleX, Scalevar2)\n",
    "\n",
    "for i in range(len(loadlevel)):\n",
    "    scaled = scale.transform([[loadlevel[i], rpm]])\n",
    "    predictedCO2Scale = regrScale.predict([scaled[0]])\n",
    "    print(\"For loadlevel : \" , loadlevel[i],  \" \", \"Scaled CO2 Emission : \" ,  predictedCO2Scale)"
   ]
  },
  {
   "cell_type": "code",
   "execution_count": 59,
   "metadata": {},
   "outputs": [
    {
     "name": "stdout",
     "output_type": "stream",
     "text": [
      "For loadlevel :  0   Scaled fuel consumption :  [0.18137365]\n",
      "For loadlevel :  100   Scaled fuel consumption :  [1.23595211]\n",
      "For loadlevel :  200   Scaled fuel consumption :  [2.29053057]\n",
      "For loadlevel :  300   Scaled fuel consumption :  [3.34510903]\n"
     ]
    }
   ],
   "source": [
    "regrScale = linear_model.LinearRegression()\n",
    "regrScale.fit(scaledScaleX, Scalevar3)\n",
    "\n",
    "for i in range(len(loadlevel)):\n",
    "    scaledfuel = scale.transform([[loadlevel[i], rpm]])\n",
    "    predictedfuelScale = regrScale.predict([scaledfuel[0]])\n",
    "    print(\"For loadlevel : \" , loadlevel[i],  \" \", \"Scaled fuel consumption : \" ,  predictedfuelScale)"
   ]
  },
  {
   "cell_type": "code",
   "execution_count": 60,
   "metadata": {},
   "outputs": [
    {
     "name": "stdout",
     "output_type": "stream",
     "text": [
      "[1.17530964 0.4396876 ]\n"
     ]
    }
   ],
   "source": [
    "print(regrScale.coef_)"
   ]
  },
  {
   "cell_type": "code",
   "execution_count": 61,
   "metadata": {},
   "outputs": [
    {
     "name": "stdout",
     "output_type": "stream",
     "text": [
      "2.0608148148148153\n"
     ]
    }
   ],
   "source": [
    "print(regrScale.intercept_)"
   ]
  },
  {
   "cell_type": "code",
   "execution_count": null,
   "metadata": {},
   "outputs": [],
   "source": []
  },
  {
   "cell_type": "code",
   "execution_count": null,
   "metadata": {},
   "outputs": [],
   "source": []
  }
 ],
 "metadata": {
  "kernelspec": {
   "display_name": "Python 3",
   "language": "python",
   "name": "python3"
  },
  "language_info": {
   "codemirror_mode": {
    "name": "ipython",
    "version": 3
   },
   "file_extension": ".py",
   "mimetype": "text/x-python",
   "name": "python",
   "nbconvert_exporter": "python",
   "pygments_lexer": "ipython3",
   "version": "3.7.6"
  }
 },
 "nbformat": 4,
 "nbformat_minor": 2
}
