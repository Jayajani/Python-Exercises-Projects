{
 "cells": [
  {
   "cell_type": "markdown",
   "metadata": {},
   "source": [
    "# Introduction\n",
    "\n",
    "Analyzing data collected from engineering modelling experiments is an important part of evaluating the experiment. This analysis ranges form simple computations on the data, such as calculating the average value, to more complicated analysis that computes measures or metircs, such as the __standard deviation__ and __variance__ of the data. These measurements are statistical measurements because they have statistical properties that are not exact. \n",
    "\n",
    "For example, the sine of $60^o$ is an exact value that is the same every time we compute it, but the number of miles to the gallon that we get with our car is a statistical measurement because it varies somewhat depending on parameters such as the temperature, the seed that we travel, the type of road, and the whether we are in the mountains or the desert. Just we can measure properties and characteristics of statistical data, we can also use the computer to generate sequences of values (random numbers) with specified charecteristics.\n",
    "\n",
    "Analyzing data is an important part of evaluating test relults. Both, `numpy` and `scipy` modules contain a number of functions to make it easier to evaluate and anlyze data."
   ]
  },
  {
   "cell_type": "markdown",
   "metadata": {},
   "source": [
    "## Mean and Median"
   ]
  },
  {
   "cell_type": "markdown",
   "metadata": {},
   "source": [
    "The mean of a group of values is the everage i.e.\n",
    "\n",
    "\\begin{equation}\n",
    "\\mu = \\frac{\\sum_{k=1}^N x_k}{N}\n",
    "\\end{equation}\n",
    "\n",
    "where $\\sum_{k=1}^N x_k = x_1 + x_2 + x3 + \\ldots + x_n$.\n",
    "\n",
    "The median is te value in the middle of the gropu, assuming that the values are sorted. If there is an od number of values, then assuming that the values in a vector `x` of length `N` are sorted, the median is the value in position `ceil(N/2)`. (Thus, if N = 5, then median is in position 3). If there is an even number of values, then again assuming that the values in a vecto `x` of length `N` are sorted, the median is the average of the values in position `(N/2) - 1` and position `N/2`.\n",
    "\n",
    "The functions for computing the mean and median are the following:\n",
    "\n",
    "> `mean()` `median()`"
   ]
  },
  {
   "cell_type": "code",
   "execution_count": 4,
   "metadata": {},
   "outputs": [
    {
     "name": "stdout",
     "output_type": "stream",
     "text": [
      "mean =  2.5\n"
     ]
    }
   ],
   "source": [
    "import numpy as np\n",
    "a = np.array([[1, 2], [3, 4]])\n",
    "mu = np.mean(a)\n",
    "print('mean = ', mu)"
   ]
  },
  {
   "cell_type": "code",
   "execution_count": 5,
   "metadata": {},
   "outputs": [
    {
     "name": "stdout",
     "output_type": "stream",
     "text": [
      "mean_0 =  [2. 3.]\n"
     ]
    }
   ],
   "source": [
    "mu_0 = np.mean(a, axis=0)\n",
    "print('mean_0 = ', mu_0)"
   ]
  },
  {
   "cell_type": "code",
   "execution_count": 6,
   "metadata": {},
   "outputs": [
    {
     "name": "stdout",
     "output_type": "stream",
     "text": [
      "mean_1 =  [1.5 3.5]\n"
     ]
    }
   ],
   "source": [
    "mu_1 = np.mean(a, axis=1)\n",
    "print('mean_1 = ', mu_1)"
   ]
  },
  {
   "cell_type": "code",
   "execution_count": 7,
   "metadata": {},
   "outputs": [
    {
     "data": {
      "text/plain": [
       "array([[10,  7,  4],\n",
       "       [ 3,  2,  1]])"
      ]
     },
     "execution_count": 7,
     "metadata": {},
     "output_type": "execute_result"
    }
   ],
   "source": [
    "a = np.array([[10, 7, 4], [3, 2, 1]])\n",
    "a"
   ]
  },
  {
   "cell_type": "code",
   "execution_count": 9,
   "metadata": {},
   "outputs": [
    {
     "name": "stdout",
     "output_type": "stream",
     "text": [
      "median =  3.5\n"
     ]
    }
   ],
   "source": [
    "m = np.median(a)\n",
    "print('median = ', m)"
   ]
  },
  {
   "cell_type": "code",
   "execution_count": 10,
   "metadata": {},
   "outputs": [
    {
     "name": "stdout",
     "output_type": "stream",
     "text": [
      "median_0 =  [6.5 4.5 2.5]\n"
     ]
    }
   ],
   "source": [
    "m_0 = np.median(a, axis=0)\n",
    "print('median_0 = ', m_0)"
   ]
  },
  {
   "cell_type": "code",
   "execution_count": 11,
   "metadata": {},
   "outputs": [
    {
     "name": "stdout",
     "output_type": "stream",
     "text": [
      "median_1 =  [7. 2.]\n"
     ]
    }
   ],
   "source": [
    "m_1 = np.median(a, axis=1)\n",
    "print('median_1 = ', m_1)"
   ]
  },
  {
   "cell_type": "markdown",
   "metadata": {},
   "source": [
    "## Sums and Products\n",
    "\n",
    "`Numpy` contains functions for computing the sums and products of columns in a matrix, and functions for computing the cumulative sums and products of the elements in a matrix.\n",
    "\n",
    "> `sum()` `prod()` `cumsum()` `cumprod()`"
   ]
  },
  {
   "cell_type": "code",
   "execution_count": 12,
   "metadata": {},
   "outputs": [
    {
     "data": {
      "text/plain": [
       "2.0"
      ]
     },
     "execution_count": 12,
     "metadata": {},
     "output_type": "execute_result"
    }
   ],
   "source": [
    "import numpy as np\n",
    "\n",
    "np.sum([0.5, 1.5])"
   ]
  },
  {
   "cell_type": "code",
   "execution_count": 14,
   "metadata": {},
   "outputs": [
    {
     "data": {
      "text/plain": [
       "array([[0, 1],\n",
       "       [0, 5]])"
      ]
     },
     "execution_count": 14,
     "metadata": {},
     "output_type": "execute_result"
    }
   ],
   "source": [
    "a = np.array([[0, 1], [0, 5]])\n",
    "a"
   ]
  },
  {
   "cell_type": "code",
   "execution_count": 15,
   "metadata": {},
   "outputs": [
    {
     "data": {
      "text/plain": [
       "6"
      ]
     },
     "execution_count": 15,
     "metadata": {},
     "output_type": "execute_result"
    }
   ],
   "source": [
    "np.sum(a)"
   ]
  },
  {
   "cell_type": "code",
   "execution_count": 16,
   "metadata": {},
   "outputs": [
    {
     "data": {
      "text/plain": [
       "array([0, 6])"
      ]
     },
     "execution_count": 16,
     "metadata": {},
     "output_type": "execute_result"
    }
   ],
   "source": [
    "np.sum(a, axis=0)"
   ]
  },
  {
   "cell_type": "code",
   "execution_count": 17,
   "metadata": {},
   "outputs": [
    {
     "data": {
      "text/plain": [
       "array([1, 5])"
      ]
     },
     "execution_count": 17,
     "metadata": {},
     "output_type": "execute_result"
    }
   ],
   "source": [
    "np.sum(a, axis=1)"
   ]
  },
  {
   "cell_type": "code",
   "execution_count": 18,
   "metadata": {},
   "outputs": [
    {
     "data": {
      "text/plain": [
       "array([[1, 2, 3],\n",
       "       [4, 5, 6]])"
      ]
     },
     "execution_count": 18,
     "metadata": {},
     "output_type": "execute_result"
    }
   ],
   "source": [
    "a = np.array([[1,2,3], [4,5,6]])\n",
    "a"
   ]
  },
  {
   "cell_type": "code",
   "execution_count": 19,
   "metadata": {},
   "outputs": [
    {
     "data": {
      "text/plain": [
       "array([ 1,  3,  6, 10, 15, 21])"
      ]
     },
     "execution_count": 19,
     "metadata": {},
     "output_type": "execute_result"
    }
   ],
   "source": [
    "np.cumsum(a)"
   ]
  },
  {
   "cell_type": "code",
   "execution_count": 20,
   "metadata": {},
   "outputs": [
    {
     "data": {
      "text/plain": [
       "array([ 1.,  3.,  6., 10., 15., 21.])"
      ]
     },
     "execution_count": 20,
     "metadata": {},
     "output_type": "execute_result"
    }
   ],
   "source": [
    "np.cumsum(a, dtype=float) # specifies type of output value(s)"
   ]
  },
  {
   "cell_type": "code",
   "execution_count": 21,
   "metadata": {},
   "outputs": [
    {
     "data": {
      "text/plain": [
       "array([[1, 2, 3],\n",
       "       [5, 7, 9]])"
      ]
     },
     "execution_count": 21,
     "metadata": {},
     "output_type": "execute_result"
    }
   ],
   "source": [
    "np.cumsum(a,axis=0) # sum over rows for each of the 3 columns"
   ]
  },
  {
   "cell_type": "code",
   "execution_count": 22,
   "metadata": {},
   "outputs": [
    {
     "data": {
      "text/plain": [
       "array([[ 1,  3,  6],\n",
       "       [ 4,  9, 15]])"
      ]
     },
     "execution_count": 22,
     "metadata": {},
     "output_type": "execute_result"
    }
   ],
   "source": [
    "np.cumsum(a,axis=1) # sum over columns for each of the 2 rows"
   ]
  },
  {
   "cell_type": "code",
   "execution_count": 23,
   "metadata": {},
   "outputs": [
    {
     "data": {
      "text/plain": [
       "2.0"
      ]
     },
     "execution_count": 23,
     "metadata": {},
     "output_type": "execute_result"
    }
   ],
   "source": [
    "np.prod([1.,2.])"
   ]
  },
  {
   "cell_type": "code",
   "execution_count": 24,
   "metadata": {},
   "outputs": [
    {
     "data": {
      "text/plain": [
       "24.0"
      ]
     },
     "execution_count": 24,
     "metadata": {},
     "output_type": "execute_result"
    }
   ],
   "source": [
    "np.prod([[1.,2.],[3.,4.]])"
   ]
  },
  {
   "cell_type": "code",
   "execution_count": 26,
   "metadata": {},
   "outputs": [
    {
     "data": {
      "text/plain": [
       "array([3., 8.])"
      ]
     },
     "execution_count": 26,
     "metadata": {},
     "output_type": "execute_result"
    }
   ],
   "source": [
    "np.prod([[1.,2.],[3.,4.]], axis=0)"
   ]
  },
  {
   "cell_type": "code",
   "execution_count": 27,
   "metadata": {},
   "outputs": [
    {
     "data": {
      "text/plain": [
       "array([ 2., 12.])"
      ]
     },
     "execution_count": 27,
     "metadata": {},
     "output_type": "execute_result"
    }
   ],
   "source": [
    "np.prod([[1.,2.],[3.,4.]], axis=1)"
   ]
  },
  {
   "cell_type": "code",
   "execution_count": 29,
   "metadata": {},
   "outputs": [
    {
     "data": {
      "text/plain": [
       "12"
      ]
     },
     "execution_count": 29,
     "metadata": {},
     "output_type": "execute_result"
    }
   ],
   "source": [
    "#You can also start the product with a value other than one\n",
    "np.prod([1, 2], initial=6)"
   ]
  },
  {
   "cell_type": "code",
   "execution_count": 31,
   "metadata": {},
   "outputs": [
    {
     "data": {
      "text/plain": [
       "array([1, 2, 6])"
      ]
     },
     "execution_count": 31,
     "metadata": {},
     "output_type": "execute_result"
    }
   ],
   "source": [
    "a = np.array([1,2,3])\n",
    "np.cumprod(a)"
   ]
  },
  {
   "cell_type": "code",
   "execution_count": 32,
   "metadata": {},
   "outputs": [
    {
     "data": {
      "text/plain": [
       "array([  1.,   2.,   6.,  24., 120., 720.])"
      ]
     },
     "execution_count": 32,
     "metadata": {},
     "output_type": "execute_result"
    }
   ],
   "source": [
    "a = np.array([[1, 2, 3], [4, 5, 6]])\n",
    "np.cumprod(a, dtype=float) # specify type of output"
   ]
  },
  {
   "cell_type": "code",
   "execution_count": 33,
   "metadata": {},
   "outputs": [
    {
     "data": {
      "text/plain": [
       "array([[ 1,  2,  3],\n",
       "       [ 4, 10, 18]])"
      ]
     },
     "execution_count": 33,
     "metadata": {},
     "output_type": "execute_result"
    }
   ],
   "source": [
    "#The cumulative product for each column (i.e., over the rows) of a:\n",
    "np.cumprod(a, axis=0) "
   ]
  },
  {
   "cell_type": "code",
   "execution_count": 34,
   "metadata": {},
   "outputs": [
    {
     "data": {
      "text/plain": [
       "array([[  1,   2,   6],\n",
       "       [  4,  20, 120]])"
      ]
     },
     "execution_count": 34,
     "metadata": {},
     "output_type": "execute_result"
    }
   ],
   "source": [
    "#The cumulative product for each row (i.e. over the columns) of a:\n",
    "np.cumprod(a,axis=1)"
   ]
  },
  {
   "cell_type": "markdown",
   "metadata": {},
   "source": [
    "## Sorting\n",
    "\n",
    "`Numpy` contains a function for sorting values\n",
    "\n",
    "> `sort()` "
   ]
  },
  {
   "cell_type": "code",
   "execution_count": 35,
   "metadata": {},
   "outputs": [
    {
     "data": {
      "text/plain": [
       "array([[1, 4],\n",
       "       [3, 1]])"
      ]
     },
     "execution_count": 35,
     "metadata": {},
     "output_type": "execute_result"
    }
   ],
   "source": [
    "a = np.array([[1,4],[3,1]])\n",
    "a"
   ]
  },
  {
   "cell_type": "code",
   "execution_count": 36,
   "metadata": {},
   "outputs": [
    {
     "data": {
      "text/plain": [
       "array([[1, 4],\n",
       "       [1, 3]])"
      ]
     },
     "execution_count": 36,
     "metadata": {},
     "output_type": "execute_result"
    }
   ],
   "source": [
    "np.sort(a)  # sort along the last axis"
   ]
  },
  {
   "cell_type": "code",
   "execution_count": 37,
   "metadata": {},
   "outputs": [
    {
     "data": {
      "text/plain": [
       "array([1, 1, 3, 4])"
      ]
     },
     "execution_count": 37,
     "metadata": {},
     "output_type": "execute_result"
    }
   ],
   "source": [
    "np.sort(a, axis=None) # sort the flattened array"
   ]
  },
  {
   "cell_type": "code",
   "execution_count": 38,
   "metadata": {},
   "outputs": [
    {
     "data": {
      "text/plain": [
       "array([[1, 1],\n",
       "       [3, 4]])"
      ]
     },
     "execution_count": 38,
     "metadata": {},
     "output_type": "execute_result"
    }
   ],
   "source": [
    "np.sort(a, axis=0) # sort along the first axis"
   ]
  },
  {
   "cell_type": "markdown",
   "metadata": {},
   "source": [
    "# Practice\n",
    "\n",
    "Determine the matrices represented by the following function references. Then use Python to check your answers. Assume that $w,x,y$ are the following matrices:\n",
    "\n",
    "\\begin{equation*}\n",
    "w = \n",
    "\\begin{pmatrix}\n",
    "0 & 3 & -2 & 7\n",
    "\\end{pmatrix}\n",
    "\\end{equation*}\n",
    "\n",
    "\\begin{equation*}\n",
    "x = \n",
    "\\begin{pmatrix}\n",
    "3 & -1 & 5 & 7\n",
    "\\end{pmatrix}\n",
    "\\end{equation*}\n",
    "\n",
    "\\begin{equation*}\n",
    "y = \n",
    "\\begin{pmatrix}\n",
    "1 & 3 & 7 \\\\\n",
    "2 & 8 & 4 \\\\\n",
    "6 & -1 & -2\n",
    "\\end{pmatrix}\n",
    "\\end{equation*}\n",
    "\n",
    "1. `max(w)`\n",
    "2. `min(y)`\n",
    "3. `min(w,x)` function returns a matrix the same size as w and x. Each element in the matrix contains the minimum value from the corresponding positions in w and x.  \n",
    "4. `mean(y)`\n",
    "5. `median(w)`\n",
    "6. `cumprod(y)`\n",
    "7. `sum(x)`\n",
    "8. `sort(2*w + x)`\n",
    "9. `sort(y)`"
   ]
  },
  {
   "cell_type": "markdown",
   "metadata": {},
   "source": [
    "## Variance and Standard Deviation\n",
    "\n",
    "One of the moste important statistical measurements for a set of data is the __variance__. Before we geve the mathematical definition for variance, it is useful to develop an intuitive understanding. Consider the values of vectors `data1` and `data2` that are plotted below."
   ]
  },
  {
   "cell_type": "code",
   "execution_count": 1,
   "metadata": {},
   "outputs": [
    {
     "ename": "AttributeError",
     "evalue": "module 'numpy.random' has no attribute 'default_rng'",
     "output_type": "error",
     "traceback": [
      "\u001b[1;31m---------------------------------------------------------------------------\u001b[0m",
      "\u001b[1;31mAttributeError\u001b[0m                            Traceback (most recent call last)",
      "\u001b[1;32m<ipython-input-1-12956cc34df9>\u001b[0m in \u001b[0;36m<module>\u001b[1;34m\u001b[0m\n\u001b[0;32m      4\u001b[0m \u001b[1;32mimport\u001b[0m \u001b[0mnumpy\u001b[0m \u001b[1;32mas\u001b[0m \u001b[0mnp\u001b[0m\u001b[1;33m\u001b[0m\u001b[1;33m\u001b[0m\u001b[0m\n\u001b[0;32m      5\u001b[0m \u001b[1;33m\u001b[0m\u001b[0m\n\u001b[1;32m----> 6\u001b[1;33m \u001b[0mdata1\u001b[0m \u001b[1;33m=\u001b[0m \u001b[0mnp\u001b[0m\u001b[1;33m.\u001b[0m\u001b[0mrandom\u001b[0m\u001b[1;33m.\u001b[0m\u001b[0mdefault_rng\u001b[0m\u001b[1;33m(\u001b[0m\u001b[1;33m)\u001b[0m\u001b[1;33m.\u001b[0m\u001b[0muniform\u001b[0m\u001b[1;33m(\u001b[0m\u001b[1;36m2\u001b[0m\u001b[1;33m,\u001b[0m\u001b[1;36m4\u001b[0m\u001b[1;33m,\u001b[0m\u001b[1;36m500\u001b[0m\u001b[1;33m)\u001b[0m\u001b[1;33m\u001b[0m\u001b[1;33m\u001b[0m\u001b[0m\n\u001b[0m\u001b[0;32m      7\u001b[0m \u001b[0mdata2\u001b[0m \u001b[1;33m=\u001b[0m \u001b[0mnp\u001b[0m\u001b[1;33m.\u001b[0m\u001b[0mrandom\u001b[0m\u001b[1;33m.\u001b[0m\u001b[0mdefault_rng\u001b[0m\u001b[1;33m(\u001b[0m\u001b[1;33m)\u001b[0m\u001b[1;33m.\u001b[0m\u001b[0muniform\u001b[0m\u001b[1;33m(\u001b[0m\u001b[1;36m1.5\u001b[0m\u001b[1;33m,\u001b[0m\u001b[1;36m4.3\u001b[0m\u001b[1;33m,\u001b[0m\u001b[1;36m500\u001b[0m\u001b[1;33m)\u001b[0m\u001b[1;33m\u001b[0m\u001b[1;33m\u001b[0m\u001b[0m\n\u001b[0;32m      8\u001b[0m \u001b[1;33m\u001b[0m\u001b[0m\n",
      "\u001b[1;31mAttributeError\u001b[0m: module 'numpy.random' has no attribute 'default_rng'"
     ]
    }
   ],
   "source": [
    "%matplotlib inline\n",
    "\n",
    "import matplotlib.pyplot as plt\n",
    "import numpy as np\n",
    "\n",
    "data1 = np.random.default_rng().uniform(2,4,500)\n",
    "data2 = np.random.default_rng().uniform(1.5,4.3,500)\n",
    "\n",
    "plt.figure(figsize=(8,10))\n",
    "plt.subplot(2,1,1)\n",
    "plt.plot(data1)\n",
    "plt.axis([0,500,0,6])\n",
    "plt.grid()\n",
    "plt.xlabel('k-samples')\n",
    "plt.ylabel('data1')\n",
    "\n",
    "plt.subplot(2,1,2)\n",
    "plt.plot(data2)\n",
    "plt.axis([0,500,0,6])\n",
    "plt.grid()\n",
    "plt.xlabel('k-samples')\n",
    "plt.ylabel('data2')\n",
    "\n",
    "plt.tight_layout()"
   ]
  },
  {
   "cell_type": "markdown",
   "metadata": {},
   "source": [
    "If we look at both plots, we can see that we attempted to draw a line through the middle of values, this line would be at approximately 3.0 in both plots. Thus, we wold assume that both vactors have approximately the same mean value of 3.0. However, the data in the two vectors clearly have some distingusihing characteristics. The values in `data2` vary more from the mean, of __deviate__ more from the mean. Thus, the measures of _variance_ and _deviation_ for the values in `data2` should be greater than the variance and deviation for the values in `data1`. Hence, an intuitive understanding for variance or deviation relates to the variance or deviation of the values from the mean. The larger the variance (or the deviation), the more values fluctuate around the mean value. "
   ]
  },
  {
   "cell_type": "markdown",
   "metadata": {},
   "source": [
    "Mahematically, the variance is represented by $\\sigma^2$, where $\\sigma$ is the Greek symbol sigma. The variance for a set of data values (which we will assume are stored in a vector `x`) can be computed using the following equation:\n",
    "\n",
    "\\begin{equation}\n",
    "\\sigma^2 = \\frac{\\sum_{k=1}^N (x_k - \\mu)^2}{N - 1}\n",
    "\\end{equation}\n",
    "\n",
    "The term $x_k - \\mu$ is the difference or deviation of $x_k$ from the mean. This value is squared so that we will always have a positive value. \n",
    "\n",
    "The standard deviation is defined to be the square root of the variance, as follows:\n",
    "\n",
    "\\begin{equation}\n",
    "\\sigma = \\sqrt{\\sigma ^2}\n",
    "\\end{equation}\n",
    "\n",
    "`Numpy` includs a function to compute the standard deviation. To compute the variance, simply square the standard deviation.\n",
    "\n",
    "> `numpy.std()` computes the standard deviation along the specified axis. Returns the standard deviation, a measure of the spread of a distribution, of the array elements. The standard deviation is computed for the flattened array by default, otherwise over the specified axis."
   ]
  },
  {
   "cell_type": "code",
   "execution_count": 49,
   "metadata": {},
   "outputs": [
    {
     "data": {
      "text/plain": [
       "1.118033988749895"
      ]
     },
     "execution_count": 49,
     "metadata": {},
     "output_type": "execute_result"
    }
   ],
   "source": [
    "import numpy as np\n",
    "\n",
    "a = np.array([[1, 2], [3, 4]])\n",
    "\n",
    "np.std(a)"
   ]
  },
  {
   "cell_type": "code",
   "execution_count": 50,
   "metadata": {},
   "outputs": [
    {
     "data": {
      "text/plain": [
       "array([1., 1.])"
      ]
     },
     "execution_count": 50,
     "metadata": {},
     "output_type": "execute_result"
    }
   ],
   "source": [
    "np.std(a, axis=0)"
   ]
  },
  {
   "cell_type": "code",
   "execution_count": 51,
   "metadata": {},
   "outputs": [
    {
     "data": {
      "text/plain": [
       "array([0.5, 0.5])"
      ]
     },
     "execution_count": 51,
     "metadata": {},
     "output_type": "execute_result"
    }
   ],
   "source": [
    "np.std(a, axis=1)"
   ]
  },
  {
   "cell_type": "markdown",
   "metadata": {},
   "source": [
    "# Practice\n",
    "\n",
    "Determine the matrices represented by the following function references. Then use Python to check your answers. Assume that $w,x,y$ are the following matrices:\n",
    "\n",
    "\\begin{equation*}\n",
    "w = \n",
    "\\begin{pmatrix}\n",
    "0 & 3 & -2 & 7\n",
    "\\end{pmatrix}\n",
    "\\end{equation*}\n",
    "\n",
    "\\begin{equation*}\n",
    "x = \n",
    "\\begin{pmatrix}\n",
    "3 & -1 & 5 & 7\n",
    "\\end{pmatrix}\n",
    "\\end{equation*}\n",
    "\n",
    "\\begin{equation*}\n",
    "y = \n",
    "\\begin{pmatrix}\n",
    "1 & 3 & 7 \\\\\n",
    "2 & 8 & 4 \\\\\n",
    "6 & -1 & -2\n",
    "\\end{pmatrix}\n",
    "\\end{equation*}\n",
    "\n",
    "1. `std(w)`\n",
    "2. `std(x)^2`\n",
    "3. `std(y[:,2])`\n",
    "4. `std(y)`"
   ]
  },
  {
   "cell_type": "markdown",
   "metadata": {},
   "source": [
    "# Histogram using [matplotlib](https://matplotlib.org/3.1.1/api/_as_gen/matplotlib.pyplot.hist.html)\n",
    "\n",
    "The command to generate and plot a histogram is the following:\n",
    "\n",
    "`matplotlib.pyplot.hist(x, bins=None, range=None, density=None, weights=None, cumulative=False, bottom=None, \n",
    "histtype='bar', align='mid', orientation='vertical', rwidth=None, log=False, color=None, label=None, \n",
    "stacked=False, normed=None, *, data=None, **kwargs)`\n",
    "\n",
    "1. Compute and draw the histogram of x. The return value is a tuple (n, bins, patches) or (\\[n0, n1, ...\\], bins, \\[patches0, patches1,...\\]) if the input contains multiple data. See the documentation of the weights parameter to draw a histogram of already-binned data.\n",
    "2. Multiple data can be provided via x as a list of datasets of potentially different length (\\[x0, x1, ...\\]), or as a 2-D ndarray in which each column is a dataset. Note that the ndarray form is transposed relative to the list form.\n",
    "\n"
   ]
  },
  {
   "cell_type": "markdown",
   "metadata": {},
   "source": [
    "# `Numpy` histogram\n",
    "\n",
    "Compute the histogram of a set of data:\n",
    "\n",
    "`numpy.histogram(a, bins=10, range=None, normed=None, weights=None, density=None)`\n",
    "\n",
    "__Returns__\n",
    "\n",
    "1. _hist : array_\n",
    "The values of the histogram. See density and weights for a description of the possible semantics.\n",
    "2. _bin_edges : array of dtype float_\n",
    "Return the bin edges (length(hist)+1).\n",
    "\n",
    "__Notes__\n",
    "> All but the last (righthand-most) bin is half-open. In other words, if bins is:\n",
    "> \\[1, 2, 3, 4\\]\n",
    "> then the first bin is \\[1, 2\\) (including 1, but excluding 2) and the second \\[2, 3). The last bin, however, is \\[3, 4\\], which includes 4."
   ]
  },
  {
   "cell_type": "code",
   "execution_count": 1,
   "metadata": {},
   "outputs": [],
   "source": [
    "%matplotlib inline\n",
    "import matplotlib.pyplot as plt\n",
    "import numpy as np\n",
    "from collections import Counter\n"
   ]
  },
  {
   "cell_type": "code",
   "execution_count": 2,
   "metadata": {},
   "outputs": [
    {
     "data": {
      "text/plain": [
       "Counter({0: 1, 1: 3, 2: 3, 3: 1})"
      ]
     },
     "execution_count": 2,
     "metadata": {},
     "output_type": "execute_result"
    }
   ],
   "source": [
    "data = np.array([0, 1, 1, 2, 1, 2, 2, 3])\n",
    "histogram = Counter(data)\n",
    "histogram"
   ]
  },
  {
   "cell_type": "code",
   "execution_count": 4,
   "metadata": {},
   "outputs": [
    {
     "data": {
      "image/png": "[encoded data removed]",
      "text/plain": [
       "<Figure size 432x288 with 1 Axes>"
      ]
     },
     "metadata": {
      "needs_background": "light"
     },
     "output_type": "display_data"
    }
   ],
   "source": [
    "#plt.bar([x for x in histogram.keys()], histogram.values());\n",
    "plt.bar(histogram.keys(), histogram.values());"
   ]
  },
  {
   "cell_type": "code",
   "execution_count": 110,
   "metadata": {},
   "outputs": [
    {
     "name": "stdout",
     "output_type": "stream",
     "text": [
      "data =  [1 3 3 1]\n",
      "bins =  [0 1 2 3 4]\n"
     ]
    },
    {
     "data": {
      "image/png": "[encoded data removed]",
      "text/plain": [
       "<Figure size 432x288 with 1 Axes>"
      ]
     },
     "metadata": {
      "needs_background": "light"
     },
     "output_type": "display_data"
    }
   ],
   "source": [
    "d, b = np.histogram(data, bins=[0, 1, 2, 3, 4])\n",
    "print('data = ',d)\n",
    "print('bins = ', b)\n",
    "plt.bar(b[:-1],d);"
   ]
  },
  {
   "cell_type": "code",
   "execution_count": 140,
   "metadata": {},
   "outputs": [
    {
     "data": {
      "image/png": "[encoded data removed]",
      "text/plain": [
       "<Figure size 432x288 with 1 Axes>"
      ]
     },
     "metadata": {
      "needs_background": "light"
     },
     "output_type": "display_data"
    }
   ],
   "source": [
    "plt.hist(data,bins = b[:], align='left');"
   ]
  },
  {
   "cell_type": "markdown",
   "metadata": {},
   "source": [
    "# Problem solving applied: speech signal analysis\n",
    "\n",
    "Suppose that we want to design a system to recognize the words for the 10 digits: `zero`, `one`, `two`, `...`, `nine`. One of the first things that we might do is analyse the data values for the ten corresponding seqences (or signals) to see if thare are some statistical measurements that would allow us to distinguish these digits. \n",
    "\n",
    "For example, one measurement might allow us to narrow the possible digit to three digits, and then another measurement might allow us to then identify the correct digit for the three digits.\n",
    "\n",
    "We use actual speech signals to compute a numner of statistical measuremetns that could then be used as part of a digit recognition algorithm. The data fiels for each digit contains 1,000 values. __Write a Python program to read an ASCII data file `zero_dat` and compute the following information: mean, standard deviation, variance, average power, average magnitude, and number of zero crossing__.\n",
    "\n",
    "> The average magnitude is the average absolute value. The number of zero crossings is the number of times that the values transitions from a negative to a positive value or from a positive to a negative value."
   ]
  },
  {
   "cell_type": "markdown",
   "metadata": {},
   "source": [
    "## 1. Problem description\n",
    "\n",
    "Compute the flollowing statistical measurements for a speech utterance: mean, standard deviation, variance, average power, average magnitude, and number of zero crossings.\n",
    "\n",
    "## 2. Input/Output description\n",
    "\n",
    "Figure below contains a diagram showing the file containing the utterance as the input and the various statistical measurements as output.\n",
    "\n",
    "![Fig](Fig.png)\n",
    "\n",
    "## 3. Hand example\n",
    "\n",
    "For a hand example, assume that an utterance contains the following sequence of values:\n",
    "\n",
    "`[2.5 8.2 -1.1 -0.2 1.5]`\n",
    "\n",
    "Using a clculator, we can compute the following values:"
   ]
  },
  {
   "cell_type": "code",
   "execution_count": 15,
   "metadata": {},
   "outputs": [
    {
     "name": "stdout",
     "output_type": "stream",
     "text": [
      "mean =  2.18\n",
      "variance =  13.307\n",
      "standard deviation = 3.64788\n",
      "average power =  15.398\n",
      "average magnitude = 2.7\n"
     ]
    }
   ],
   "source": [
    "mean = (2.5 + 8.2 - 1.1 - 0.2 + 1.5)/5\n",
    "print('mean = ', mean)\n",
    "\n",
    "variance = ((2.5 - mean)**2 + (8.2 - mean)**2 + (-1.1 - mean)**2 + (-0.2 - mean)**2 + (1.5 - mean)**2)/4\n",
    "print('variance = ', variance)\n",
    "\n",
    "standard_dev = variance**0.5\n",
    "print('standard deviation = %g' %standard_dev)\n",
    "\n",
    "average_power = (2.5**2 + 8.2**2 + (-1.1)**2 + (0.2)**2 + 1.5**2)/5\n",
    "print('average power = ', average_power)\n",
    "\n",
    "average_magnitude = (abs(2.5) + abs(8.2) + abs(-1.1) + abs(-0.2) + abs(1.5))/5\n",
    "print('average magnitude = %g' %average_magnitude)\n",
    "\n",
    "number_of_zero_crossings = 2"
   ]
  },
  {
   "cell_type": "markdown",
   "metadata": {},
   "source": [
    "# Practice\n",
    "\n",
    "Write Python program which computes the abowe example.\n",
    "Write a `for` loop to compute the number of zero crossings."
   ]
  },
  {
   "cell_type": "markdown",
   "metadata": {},
   "source": [
    "# Random numbers\n",
    "\n",
    "Random numbers are not defined by an equation. Instead, they have certain characteristics that define them. There are many engineering problems that require the use of random numbers in the development of a solution. In some cases, the random numbers are used to develop a simulation of a complex problem. The simulation can be tasted over and over to analyze the results, and each test represents a repetition of the experiment. We also use random numbers to approximate noise sequences. For example, the static that we hear on a radio is a noise sequence. If we are testing a program that uses an input data file that represents a radio signal, we may want to generate noise and add it to a speech signal or music signal in order to provide a more realistic signal."
   ]
  },
  {
   "cell_type": "markdown",
   "metadata": {},
   "source": [
    "# [Random number functions](https://docs.scipy.org/doc/numpy-1.14.0/reference/routines.random.html)"
   ]
  },
  {
   "cell_type": "code",
   "execution_count": 16,
   "metadata": {},
   "outputs": [],
   "source": [
    "import numpy as np"
   ]
  },
  {
   "cell_type": "markdown",
   "metadata": {},
   "source": [
    "## Generate A Random Number From The Normal Distribution"
   ]
  },
  {
   "cell_type": "code",
   "execution_count": 17,
   "metadata": {},
   "outputs": [
    {
     "data": {
      "text/plain": [
       "-1.6334444935289931"
      ]
     },
     "execution_count": 17,
     "metadata": {},
     "output_type": "execute_result"
    }
   ],
   "source": [
    "np.random.normal()"
   ]
  },
  {
   "cell_type": "markdown",
   "metadata": {},
   "source": [
    "## Generate Four Random Numbers From The Normal Distribution"
   ]
  },
  {
   "cell_type": "code",
   "execution_count": 18,
   "metadata": {},
   "outputs": [
    {
     "data": {
      "text/plain": [
       "array([-0.02932182,  1.25708424,  0.10311549, -0.29082796])"
      ]
     },
     "execution_count": 18,
     "metadata": {},
     "output_type": "execute_result"
    }
   ],
   "source": [
    "np.random.normal(size=4)"
   ]
  },
  {
   "cell_type": "markdown",
   "metadata": {},
   "source": [
    "## Generate Four Random Numbers From The Uniform Distribution"
   ]
  },
  {
   "cell_type": "code",
   "execution_count": 19,
   "metadata": {},
   "outputs": [
    {
     "data": {
      "text/plain": [
       "array([0.01745475, 0.58121777, 0.77146261, 0.81964003])"
      ]
     },
     "execution_count": 19,
     "metadata": {},
     "output_type": "execute_result"
    }
   ],
   "source": [
    "np.random.uniform(size=4)"
   ]
  },
  {
   "cell_type": "markdown",
   "metadata": {},
   "source": [
    "## Generate Four Random Integers Between 1 and 100"
   ]
  },
  {
   "cell_type": "code",
   "execution_count": 20,
   "metadata": {},
   "outputs": [
    {
     "data": {
      "text/plain": [
       "array([28, 66, 22, 27])"
      ]
     },
     "execution_count": 20,
     "metadata": {},
     "output_type": "execute_result"
    }
   ],
   "source": [
    "np.random.randint(low=1, high=100, size=4)"
   ]
  },
  {
   "cell_type": "markdown",
   "metadata": {},
   "source": [
    "## Create an array of the given shape and populate it with random samples from a uniform distribution over \\[0, 1)."
   ]
  },
  {
   "cell_type": "code",
   "execution_count": 22,
   "metadata": {},
   "outputs": [
    {
     "data": {
      "text/plain": [
       "array([0.75043509, 0.39138336, 0.53071785, 0.58398075, 0.52582233])"
      ]
     },
     "execution_count": 22,
     "metadata": {},
     "output_type": "execute_result"
    }
   ],
   "source": [
    "np.random.rand(5)"
   ]
  },
  {
   "cell_type": "code",
   "execution_count": 23,
   "metadata": {},
   "outputs": [
    {
     "data": {
      "text/plain": [
       "array([[0.05184778, 0.78578698, 0.82188923],\n",
       "       [0.76379862, 0.65714583, 0.19473327],\n",
       "       [0.29312729, 0.08522757, 0.96827118]])"
      ]
     },
     "execution_count": 23,
     "metadata": {},
     "output_type": "execute_result"
    }
   ],
   "source": [
    "np.random.rand(3,3)"
   ]
  },
  {
   "cell_type": "markdown",
   "metadata": {},
   "source": [
    "For example, suppose that we want to generate values between -5 and 5. We first generate a random numner `r` (which is between 0 and 1) and then multipy it by 10, which is the difference between the upper and lower bounds $[5 - (-5)]$. We then add the lower bound -5, giving a resulting value that is equally likely to be any value between -5 and 5.\n",
    "\n",
    "\\begin{equation}\n",
    "x = (b - a) \\cdot r + a \n",
    "\\end{equation}"
   ]
  },
  {
   "cell_type": "code",
   "execution_count": 24,
   "metadata": {},
   "outputs": [
    {
     "name": "stdout",
     "output_type": "stream",
     "text": [
      "1.0450212223912372\n"
     ]
    }
   ],
   "source": [
    "b = 5\n",
    "a = -5\n",
    "r = np.random.rand()\n",
    "x = (b - a) * r + a\n",
    "print(x)"
   ]
  },
  {
   "cell_type": "markdown",
   "metadata": {},
   "source": [
    "# Practice\n",
    "\n",
    "Give the Python statements to generate 10 random numbers with the specified characterictics. Check your answers to executing the statemets and printing the values generated in the vectors.\n",
    "\n",
    "1. Uniform random numbers between 0 and 10.0\n",
    "2. Uniform random numbers between -1 and +1\n",
    "3. Uniform random numbers between -20 and -10.0\n",
    "4. Uniform random numbers between 4.5 and 5.0\n",
    "5. Uniform random numbers between $\\pi$ and $-\\pi$"
   ]
  },
  {
   "cell_type": "markdown",
   "metadata": {},
   "source": [
    "# Random signal\n",
    "\n",
    "A sequence of random numbers is also called a random signal. We are often interested in the average value or mean of the signal, which can easily be computed using `mean` function. Theoretically, the average value for a uniform random sequence is also equal to the midpoint of the density function, or as follow:\n",
    "\n",
    "\\begin{equation}\n",
    "\\mu = \\frac{upper\\; bound + lower\\; bound}{2}\n",
    "\\end{equation}\n",
    "\n",
    "The variance of a random signal is another value that we are often interested in computing. This value can be computed by squaring the result of the `std` function. Using results from probability theory, it can be shown that the variance can also be expressed as the average squared value minus the square of the average:\n",
    "\n",
    "\\begin{equation}\n",
    "\\sigma^2 = \\frac{\\sum_{k=1}^N x_k^2}{N} - \\mu^2\n",
    "\\label{sigma1}\n",
    "\\end{equation}\n",
    "\n",
    "_Note that the abowe Eqation applies to all sequences of random numners_.\n",
    "\n",
    "The variance of a uniform distribution can also be expressed in terms of the upper and lower bounds:\n",
    "\n",
    "\\begin{equation}\n",
    "\\sigma^2 = \\frac{(upper\\; bound - lower\\; bound)^2}{12}\n",
    "\\end{equation}\n",
    "\n",
    "or\n",
    "\n",
    "\\begin{equation}\n",
    "\\sigma^2 = \\frac{width^2}{12}\n",
    "\\end{equation}\n",
    "\n",
    "_Note that the above Equations apply only to sequences of uniformy distributed random numbers_.\n",
    "\n",
    "It is also important to recognize that when using actual data, the average and variance do not match exactly the theoretical values; however, as we use more and more points from a random distribution, the computed mean and variance should approach the theoretical values. "
   ]
  },
  {
   "cell_type": "markdown",
   "metadata": {},
   "source": [
    "## Practice\n",
    "\n",
    "Compute the theoretical mean and variance for random numbers with the specified characteristics. Use Python to generate 1,000 values with the specified characteristics. Calculate the mean and variance of the 1,000 values, and compare to the theoretical values using abowe equations.\n",
    "\n",
    "1. Uniform random numbers betweeen 0 and 10.0\n",
    "2. Uniform random numbers betweeen -1 and +1\n",
    "3. Uniform random numbers betweeen -20 and -10\n",
    "4. Uniform random numbers betweeen 4.5 and 5.0\n",
    "5. Uniform random numbers betweeen $\\pi$ and $-\\pi$"
   ]
  },
  {
   "cell_type": "markdown",
   "metadata": {},
   "source": [
    "# Gaussian Random Numbers\n",
    "\n",
    "Random sequences that have some values that are more likely to accur than others can often be modeled with a Gaussian random variable. The density function for a Gaussian random variable is given by the following equation:\n",
    "\n",
    "\\begin{equation}\n",
    "f(x) = \\frac{1}{\\sqrt{2\\pi\\sigma^2}}e^{-(x - \\mu)^2/(2\\sigma^2)}\n",
    "\\end{equation}\n",
    "\n",
    "where $\\mu$ is the mean and $\\sigma^2$ is the variance."
   ]
  },
  {
   "cell_type": "code",
   "execution_count": 4,
   "metadata": {},
   "outputs": [
    {
     "data": {
      "image/png": "[encoded data removed]",
      "text/plain": [
       "<Figure size 432x288 with 1 Axes>"
      ]
     },
     "metadata": {
      "needs_background": "light"
     },
     "output_type": "display_data"
    }
   ],
   "source": [
    "%matplotlib inline\n",
    "\n",
    "import matplotlib.pyplot as plt\n",
    "import numpy as np\n",
    "\n",
    "sigma = np.sqrt(1.)\n",
    "mu = 0.\n",
    "x = np.linspace(-4, 4, 400)\n",
    "M = np.sqrt(2*np.pi*sigma**2)\n",
    "E = (x - mu)**2/2/sigma**2\n",
    "\n",
    "f = 1/M*np.exp(-E)\n",
    "\n",
    "plt.plot(x,f)\n",
    "plt.grid();"
   ]
  },
  {
   "cell_type": "code",
   "execution_count": 11,
   "metadata": {},
   "outputs": [
    {
     "data": {
      "image/png": "[encoded data removed]",
      "text/plain": [
       "<Figure size 432x288 with 1 Axes>"
      ]
     },
     "metadata": {
      "needs_background": "light"
     },
     "output_type": "display_data"
    }
   ],
   "source": [
    "s = np.random.normal(mu, sigma, 20)\n",
    "\n",
    "plt.plot(s)\n",
    "plt.axis([0,20,-2,2])\n",
    "plt.grid()\n"
   ]
  },
  {
   "cell_type": "markdown",
   "metadata": {},
   "source": [
    "## Density functions (histogram)\n",
    "\n",
    "`hist` command, which generates a histogram, can be used to estimate the density function of a random signal. If we have 1,000 random numbers, and we plot the histogram of the values, we are plotting a scaled verstion of the density function for the random numbers. \n",
    "\n",
    "For example, suppose that we generate 1,000 uniform random numbers between zero and one, and store them in the column vector `u_values`. We can use the `hist` command to plot the density function using 25 bins:"
   ]
  },
  {
   "cell_type": "code",
   "execution_count": 28,
   "metadata": {},
   "outputs": [
    {
     "data": {
      "image/png": "[encoded data removed]",
      "text/plain": [
       "<Figure size 432x288 with 1 Axes>"
      ]
     },
     "metadata": {
      "needs_background": "light"
     },
     "output_type": "display_data"
    }
   ],
   "source": [
    "%matplotlib inline\n",
    "\n",
    "import matplotlib.pyplot as plt\n",
    "import numpy as np\n",
    "\n",
    "u_values = np.random.uniform(0,1,1000)\n",
    "count, bins, ignored = plt.hist(u_values, 25, density=True)\n",
    "plt.plot(bins,np.ones_like(bins),lw=4, color='red');"
   ]
  },
  {
   "cell_type": "markdown",
   "metadata": {},
   "source": [
    "If we generate 1,000 Gaussian random numbers with a mean of zero and a variance of one, and store them in the vector `g_values`, we can then plot the density function with these statements:"
   ]
  },
  {
   "cell_type": "code",
   "execution_count": 29,
   "metadata": {},
   "outputs": [
    {
     "data": {
      "image/png": "[encoded data removed]",
      "text/plain": [
       "<Figure size 432x288 with 1 Axes>"
      ]
     },
     "metadata": {
      "needs_background": "light"
     },
     "output_type": "display_data"
    }
   ],
   "source": [
    "%matplotlib inline\n",
    "\n",
    "import matplotlib.pyplot as plt\n",
    "import numpy as np\n",
    "\n",
    "mu, sigma = 0,1\n",
    "g_values = np.random.normal(mu,sigma,1000)\n",
    "count, bins, ignored = plt.hist(g_values, 25, density=True)\n",
    "plt.plot(bins, 1/(sigma * np.sqrt(2 * np.pi)) *\n",
    "               np.exp( - (bins - mu)**2 / (2 * sigma**2) ), linewidth=2, color='r');"
   ]
  },
  {
   "cell_type": "markdown",
   "metadata": {},
   "source": [
    "## Practice\n",
    "\n",
    "Compute the theoretical mean and variance for random numbers with the specified characteristics. Use Python to generate 1,000 values with the specified characteristics. Calculate the mean and variance of the 1,000 values, and compare to the theoretical values using abowe equations.\n",
    "\n",
    "1. Gaussian random numbers with a mean of 1.0 and a variace of 0.5\n",
    "2. Gaussian random numbers with a mean of -5.5 and a standard deviation of 0.25\n",
    "3. Gaussian random numbers with a mean of -5.5 and a standard deviation of 1.25\n",
    "4. Gaussian random numbers with a mean of $\\pi$ and a standard deviation of $\\pi/8$"
   ]
  },
  {
   "cell_type": "markdown",
   "metadata": {},
   "source": [
    "# Problem Solving Applied: Fligth simulator\n",
    "\n",
    "Computer simulations are used to generate situations that model or emulate a real world situation. Some computer simulations are written to play games such as chcekers, poker, or chess. To play the game, you indicate your move, adn th computer will then select an appropriate response. Other animated games use computer graphics to develope an interaction as you use the keys or a mouse to play the game. In more sophisticaed computer simulations, such as those in a flight simulator, the computer not only responds to the input from the user but also generates values such as temperatures, wind speed, and the location of the other aircraft. The simulators also simulate emergencies that occur during the flight of an aircraft. If all this information generated by the computer was always the same set of information, then the value of the simulator would be greatly reduced. It is important that there be `randomness` to the generation of the data. Monte Carlo simulations use random numbers to generate values that model events. \n",
    "\n",
    "Write a program to generate a random sequence to simulate one hour of wind speed data that is updated every 10 seconds. (One hour of data is then represented by 361 values.) From analysis of actual wind pattern, ti has been determined that the wind speed can be modeled as a Gaussian random number. The mean and variance are unique to a specific region and time of year and are entered as input parameters. In addition, it is assumed that the plane has $1\\%$ chase to plying into as small storm. The length of time that the plane is in a small storm is thee minutes. When the plane is in a small storm, the wind speed increases by 10 min/hr. Also, there is $0.01\\%$ chace that the plane will fly into a microburst, which last for one minute and increases the wind speed by 50 min/hr. Plot the time and speed data and save them in an ASCII file named `windspd.dat`."
   ]
  },
  {
   "cell_type": "markdown",
   "metadata": {},
   "source": [
    "# 1. Problem statement\n",
    "\n",
    "Generate one hour of simulated wind speed data using the statistics developed for the are of the flight path.\n",
    "\n",
    "# 2. Input/Output\n",
    "\n",
    "The input to the program is the statistics of the weather in the flight path, which are represented by the mean and variance of the wind speed in normal weather. The output is the plot and the data file containing the simulated wind speed. \n",
    "\n",
    "# 3. Hand example\n",
    "\n",
    "This simulation uses several different random number sequences. The wind speed is a Gaussian random number sequence wtih a specified mean and variance. The probabilities of encountering a storm or a microbuts are given as percentage values and be modeled as unform random numbers. We will assume that a storm occurs if a uniform random number between 0 and 1 has a value between 0.0 and 0.01, and that microbuts occurs if the uniform random number is between 0.01 and 0.0101."
   ]
  },
  {
   "cell_type": "code",
   "execution_count": 28,
   "metadata": {},
   "outputs": [
    {
     "data": {
      "image/png": "[encoded data removed]",
      "text/plain": [
       "<Figure size 432x288 with 1 Axes>"
      ]
     },
     "metadata": {
      "needs_background": "light"
     },
     "output_type": "display_data"
    }
   ],
   "source": [
    "%matplotlib inline\n",
    "\n",
    "import matplotlib.pyplot as plt\n",
    "import numpy as np\n",
    "\n",
    "mn_speed = 20. # mean of wind speed\n",
    "var_speed = 5. # variance of wind speed\n",
    "std_speed = np.sqrt(var_speed)\n",
    "\n",
    "np.random.seed(0)\n",
    "\n",
    "# generate simulated wind speed without storms\n",
    "\n",
    "speed = np.random.normal(mn_speed,std_speed,361)\n",
    "\n",
    "# add simulated storms and microbursts\n",
    "\n",
    "t = np.arange(0,361)*(1/360)\n",
    "k = 0\n",
    "\n",
    "while k < 361:\n",
    "    random_x = np.random.uniform()\n",
    "    if random_x < 0.01:\n",
    "        end_storm = np.min([361, k + 17])\n",
    "        speed[k:end_storm] = speed[k:end_storm] + 10\n",
    "        k += 18\n",
    "    elif 0.01 < random_x and random_x <= 0.0101:\n",
    "        end_micro = np.min([361, k + 5])\n",
    "        speed[k:end_storm] = speed[k:end_storm] + 50\n",
    "        k += 6\n",
    "    else:\n",
    "        k += 1\n",
    "\n",
    "plt.plot(t,speed)\n",
    "plt.grid()\n",
    "plt.xlabel('t, hours')\n",
    "plt.ylabel('wind, min/hr');"
   ]
  },
  {
   "cell_type": "markdown",
   "metadata": {},
   "source": [
    "For a more realistic wind pattern, we could make several changes. During a storm, the increase in speed could be a uniform random random number with a mean of 10 and a large variance to simulate turbulance. We could also make the length of the storm a uniform random variable, that might vary from 1 min to 10 mins. \n",
    "\n",
    "After running the program a number of times, the wind speed data containted a microburst, should be shown. "
   ]
  },
  {
   "cell_type": "markdown",
   "metadata": {},
   "source": [
    "# Signal to noise ratios (SNR)\n",
    "\n",
    "In generating signals to use in testing engineering techniques, we often want to generate sequences such as the one below, which contains a sinusoid with noise added to it.\n",
    "\n",
    "> The amount of noise added to a signal can be specified with a __signal-to-noise ratio__, or `SNR`. \n",
    "> The SNR is defined in terms of the power of a signal, so we discuss signal power, and then return to a mathematical definition of SNR."
   ]
  },
  {
   "cell_type": "code",
   "execution_count": 55,
   "metadata": {},
   "outputs": [
    {
     "data": {
      "image/png": "[encoded data removed]",
      "text/plain": [
       "<Figure size 432x288 with 1 Axes>"
      ]
     },
     "metadata": {
      "needs_background": "light"
     },
     "output_type": "display_data"
    }
   ],
   "source": [
    "%matplotlib inline\n",
    "\n",
    "import matplotlib.pyplot as plt\n",
    "import numpy as np\n",
    "\n",
    "r = np.random.uniform(size=100)\n",
    "t = np.linspace(0, 2.0, 100)\n",
    "y = 1.5 * np.sin(2*np.pi*t) + (0.54 * r - 0.27)\n",
    "len(r)\n",
    "\n",
    "\n",
    "plt.plot(t,y)\n",
    "plt.grid()\n",
    "plt.xlabel('t, seconds');"
   ]
  },
  {
   "cell_type": "markdown",
   "metadata": {},
   "source": [
    "# Signal Power\n",
    "\n",
    "Intuitively, the power is a measure of the amplitude of a signal. The larger the amplitude of the signal values, the larger the power. Since an amplitude can be positive or negative, power is defined in terms of squared amplitudes, so that the values are always positive. The power in a signal `x` can be estimated by the average squared value of the signal:\n",
    "\n",
    "\\begin{equation}\n",
    "power = \\frac{\\sum_{k=1}^N x_k^2}{N}\n",
    "\\end{equation}\n",
    "\n",
    "That can easily be computed as:\n",
    "\n",
    "```python\n",
    "power = np.sum(x**2)\n",
    "```\n",
    "\n",
    "It also be shown that the power in a signal is equal to the variance plus the mean squared:\n",
    "\n",
    "\\begin{equation}\n",
    "power = \\sigma^2 + \\mu^2\n",
    "\\end{equation}\n",
    "\n",
    "That can easily be computed as:\n",
    "\n",
    "```python\n",
    "power = np.std(x)**2 + np.mean(x)**2\n",
    "```\n",
    "\n",
    "> If a signal is a sinusoid, it can be shown that the signal power is equal to one-half the square amplitude of the sinusoid."
   ]
  },
  {
   "cell_type": "markdown",
   "metadata": {},
   "source": [
    "# Practice\n",
    "\n",
    "Give the Python statements to generate 100 values from the sequence indicated. Compute the power using the average squared value and then compute it using the mean and variance.\n",
    "\n",
    "1. Uniform values between 0 and 10.\n",
    "2. Uniform values between -2 and 4.\n",
    "3. Uniform values with mean of 0 and variance of 1.0.\n",
    "4. Uniform values with mean of -0.5 and variance of 4.0.\n",
    "5. Gaussian values with mean of 0 and variance of 2.0.\n",
    "6. Gaussian values with mean of 0 and variance of 0.5.\n",
    "7. Gaussian values with mean of -2.5 and variance of 0.5."
   ]
  },
  {
   "cell_type": "markdown",
   "metadata": {},
   "source": [
    "# Computational of SNR\n",
    "\n",
    "__A signal-to-noise ratio is the ratio of the power in a signal to the power in the noise__.\n",
    "\n",
    "For example, a SNR of 1 specifies that the ratio of signal power to noise power is 1:1. If we have a sinusoid with an amplitude of 3 added to uniform noise between -1 and 1, we can computed the SNR using the power measurements of the two signal. The power of the sinusoid is 9/2, and the power of the noise is $2^2/12$.\n",
    "\n",
    "For a general sinusoid with amplitede `A`, and uniform noise between `a` and `b`, the `SNR` can be computed using the following Python statement:\n",
    "\n",
    "```python\n",
    "SNR = A**2/2 / ((b - a)**2/12)\n",
    "```\n",
    "\n",
    "To illustrate with another example, suppose that we want to generate 201 points of a signal that contains a 1 Hz sinusoid with zero-mean noise in an SNR of 46. The sinusoid should have an amplitude of 1.5 and a phase of 0.0, and be sampled at 100 Hz. The SNR is equal to the power of the sinusoid divided by the power of the noise:\n",
    "\n",
    "\\begin{equation}\n",
    "SNR = \\frac{signal\\; power}{noise\\; power} = 46\n",
    "\\end{equation}\n",
    "\n",
    "Solving for the noise power, we have:\n",
    "\n",
    "\\begin{equation}\n",
    "noise\\; power = \\frac{1.5^2/2}{46} = 0.024\n",
    "\\end{equation}\n",
    "\n",
    "Since the noise is specified to be zero-mean, the noise power is squal to the variance. Thus, the noise variance is 0.024. Since the noise is uniform and zero-mean, it ranges between `a` and `-a`. Therefore, the variance is equal to $(2a)^2/12$ and a=0.27 (see the solution above). __Note that there are two periods of the signal in 2.0 seconds. This corresponds to the fact that the frequencey is 1 Hz, so the period is 1.0 second__."
   ]
  },
  {
   "cell_type": "markdown",
   "metadata": {},
   "source": [
    "# Practice\n",
    "\n",
    "Generate and plot a signal composed of 100 points of a 5 Hz sinusoid sampled at 50 Hz plus zero-mean noise as specified:\n",
    "\n",
    "1. Uniform noise with SNR of 5.\n",
    "2. Uniform noise with SNR of 1.\n",
    "3. Uniform noise with SNR of 0.2.\n",
    "4. Gaussian noise with SNR of 5.\n",
    "5. Gaussian noise with SNR of 1.\n",
    "6. Gaussian noise with SNR of 0.2."
   ]
  },
  {
   "cell_type": "markdown",
   "metadata": {},
   "source": [
    "\\begin{tabular}{|l|l|}\n",
    "\\hline\n",
    "Statistical measurement difference between Signal3 and Signal1 & Values \\\\ \\hline\n",
    "Mean & -0.8707222516478339 \\\\ \\hline\n",
    "Median & 3.0 \\\\ \\hline\n",
    "Variance & 3299962.361845749 \\\\ \\hline\n",
    "Standard Deviation & 6711427.775531537 \\\\ \\hline\n",
    "Average Power & 3299973.795798513 \\\\ \\hline\n",
    "Average Magnitude & 617.1591852048023 \\\\ \\hline\n",
    "\\end{tabular}"
   ]
  },
  {
   "cell_type": "code",
   "execution_count": null,
   "metadata": {},
   "outputs": [],
   "source": []
  }
 ],
 "metadata": {
  "kernelspec": {
   "display_name": "Python 3",
   "language": "python",
   "name": "python3"
  },
  "language_info": {
   "codemirror_mode": {
    "name": "ipython",
    "version": 3
   },
   "file_extension": ".py",
   "mimetype": "text/x-python",
   "name": "python",
   "nbconvert_exporter": "python",
   "pygments_lexer": "ipython3",
   "version": "3.7.4"
  }
 },
 "nbformat": 4,
 "nbformat_minor": 2
}
