{
 "cells": [
  {
   "cell_type": "code",
   "execution_count": 5,
   "metadata": {},
   "outputs": [
    {
     "name": "stdout",
     "output_type": "stream",
     "text": [
      "x_1 = 2.000000\n",
      "x_2 = 0.614862\n",
      "x_3 = 0.911249\n",
      "x_4 = 0.995599\n",
      "x_5 = 0.999975\n"
     ]
    },
    {
     "data": {
      "image/png": "[encoded data removed]",
      "text/plain": [
       "<Figure size 432x288 with 1 Axes>"
      ]
     },
     "metadata": {
      "needs_background": "light"
     },
     "output_type": "display_data"
    }
   ],
   "source": [
    "import numpy as np\n",
    "from scipy.misc import derivative\n",
    "\n",
    "x_n = 2\n",
    "x = np.linspace(0.2, 2.2, 500)\n",
    "\n",
    "def f(x):\n",
    "    return np.log(x)\n",
    "\n",
    "def x_next(f, x, x_n):\n",
    "    slope = derivative(f, x_n, dx=0.1)\n",
    "    return x_n - f(x_n) / slope\n",
    "\n",
    "for n in range(5):\n",
    "    print('x_{} = {:.6f}'.format(n + 1, x_n))\n",
    "    x_n = x_next(f, x, x_n)\n",
    "    \n",
    "    \n",
    "plt.plot(x, f(x), label=r'$\\ln(x)$')\n",
    "plt.axhline(0, color='gray', lw=0.5)\n",
    "plt.setp(ax, xticks=[0, 1, 2], xticklabels=['0', '1', '2'],\n",
    "             yticks=[-1, 0, 1], yticklabels=['-1', '0', '-1'])\n",
    "plt.show()"
   ]
  },
  {
   "cell_type": "code",
   "execution_count": 6,
   "metadata": {},
   "outputs": [],
   "source": [
    "%matplotlib inline\n",
    "from matplotlib import pyplot as plt\n",
    "import numpy as np\n",
    "from scipy.misc import derivative\n",
    "import matplotlib.pyplot as plt\n",
    "from ipywidgets import widgets\n",
    "\n",
    "x = np.linspace(0.2, 2.2, 500)\n",
    "\n",
    "def f(x):\n",
    "    return np.log(x)\n",
    "\n",
    "def f_line(f, x, x_n):\n",
    "    slope = derivative(f, x_n, dx=0.1)\n",
    "    x_nn = x_n - f(x_n) / slope \n",
    "    return slope * (x - x_n) + f(x_n), x_nn\n",
    "\n",
    "def update_plot(order):\n",
    "    x_n = 2\n",
    "    ax.clear()\n",
    "    plt.plot(x, f(x), label=r'$\\ln(x)$')\n",
    "    plt.axhline(0, color='gray', lw=0.5)\n",
    "\n",
    "    for i in range(0, order):\n",
    "\n",
    "        if i >= 1:\n",
    "            ax.plot(x, f_l, '--', lw=1)\n",
    "        \n",
    "        plt.plot(x_n, f(x_n), 'kd', label=r'$f(x_{}={:.2f})={:.3f}$'.format(i + 1, x_n, f(x_n)))\n",
    "        plt.vlines(x_n, 0, f(x_n), color='black', linestyle=':', lw=1)\n",
    "        f_l, x_n = f_line(f, x, x_n)\n",
    "\n",
    "        \n",
    "    plt.setp(ax, xticks=[0, 1, 2], xticklabels=['0', '1', '2'],\n",
    "             yticks=[-1, 0, 1], yticklabels=['-1', '0', '-1'])\n",
    "    ax.set_ylim(-1, 1)\n",
    "    ax.set_xlim(0, 2.2)\n",
    "    plt.legend(loc=4)\n",
    "    plt.show()"
   ]
  },
  {
   "cell_type": "code",
   "execution_count": 4,
   "metadata": {},
   "outputs": [
    {
     "data": {
      "application/vnd.jupyter.widget-view+json": {
       "model_id": "8a4b93f19778475fbd053fd6f05ecb38",
       "version_major": 2,
       "version_minor": 0
      },
      "text/plain": [
       "interactive(children=(IntSlider(value=1, description='order', max=6, min=1), Output()), _dom_classes=('widget-…"
      ]
     },
     "metadata": {},
     "output_type": "display_data"
    }
   ],
   "source": [
    "\n",
    "order = widgets.IntSlider(min=1, max=6, value=1, description='order')\n",
    "widgets.interactive(update_plot, order=order)"
   ]
  },
  {
   "cell_type": "code",
   "execution_count": null,
   "metadata": {},
   "outputs": [],
   "source": []
  }
 ],
 "metadata": {
  "kernelspec": {
   "display_name": "Python 3",
   "language": "python",
   "name": "python3"
  },
  "language_info": {
   "codemirror_mode": {
    "name": "ipython",
    "version": 3
   },
   "file_extension": ".py",
   "mimetype": "text/x-python",
   "name": "python",
   "nbconvert_exporter": "python",
   "pygments_lexer": "ipython3",
   "version": "3.7.4"
  }
 },
 "nbformat": 4,
 "nbformat_minor": 2
}
